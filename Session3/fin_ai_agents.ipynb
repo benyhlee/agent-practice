{
 "cells": [
  {
   "cell_type": "markdown",
   "id": "05bc4434",
   "metadata": {},
   "source": [
    "# **금융 AI 에이전트 활용 가능 예**"
   ]
  },
  {
   "cell_type": "markdown",
   "id": "2c1dfd06",
   "metadata": {},
   "source": [
    "#\n",
    "## **1.통합 고객 상담 Agent (전 금융업권 공통)**\n",
    "- 고객 문의사항에 대한 24시간 자동 응답\n",
    "- 복잡한 상품 문의를 적절한 전문가에게 라우팅\n",
    "- 상품 설명서 및 약관, FAQ 데이터베이스, 고객 거래 이력, 상담 이력 및 해결 사례 등의 데이터 활용"
   ]
  },
  {
   "cell_type": "markdown",
   "id": "05e7dce5",
   "metadata": {},
   "source": [
    "#\n",
    "## **2. 지능형 대출 심사 Assistant (은행용)**\n",
    "- 대출 신청서류 자동 분석 및 리스크 평가\n",
    "- 심사역의 의사결정을 지원하는 종합적인 정보 제공\n",
    "- 신용평가 정보, 소득증빙서류, 부동산 시세 정보, 기존 거래 이력 등 활용"
   ]
  },
  {
   "cell_type": "markdown",
   "id": "26a7151a",
   "metadata": {},
   "source": [
    "#\n",
    "## **3. 투자 리서치 자동화 Agent (증권사/자산운용사용)**\n",
    "- 거래 데이터, 기업 실적 발표, 뉴스, 재무제표를 실시간으로 분석하여 투자 인사이트 제공\n",
    "- 애널리스트의 리서치 업무를 보조하는 AI 조수 역할\n",
    "- 거래소 시세 데이터, 네이버/다음 금융뉴스 API, 기타 금융 전문 포탈, DART 공시정보, 기업 IR 자료 등 활용\n",
    "- RAG, Web Search\n",
    "- 고정된 워크플로우를 따르는 에이전트, 유연한 대화형 에이전트"
   ]
  },
  {
   "cell_type": "markdown",
   "id": "5a922e51",
   "metadata": {},
   "source": [
    "#\n",
    "## **4. 자산배분/포트폴리오 운용 Agent (증권사/자산운용사용)**\n",
    "- 방대한 누적 데이터와 실시간 데이터를 효율적으로 처라함으로써 선재적인 시장 대응 가능\n",
    "- 생성형 AI가 재무 뉴스 및 소셜미디어 감정과 같은 비정형 데이터를 분석하여 거래 전략을 강화하고 더 깊은 시장 통찰력을 제공"
   ]
  },
  {
   "cell_type": "markdown",
   "id": "039fcd7c",
   "metadata": {},
   "source": [
    "#\n",
    "## **5. 알파 자동 생성 Agent (증권사/자산운용사용)**\n",
    "- 멀티 에이전트를 활용하여 각자 전문 업무를 할당하고 알파 가설을 생성하고 발전시킴\n",
    "- LLM의 이미 학습된 능력과 전문 데이터베이스, 웹 검색 등을 활용하여 스스로 가설을 검증하고 반복적으로 업그레이드 시키는 워크플로우 설계 가능\n",
    "- 상관 관계가 적은 새롭고 다양한 알파를 지속적으로 시장 상황에 맞게 생성하여 운용함으로써 시장 중립적 투자 수익 창출 가능"
   ]
  },
  {
   "cell_type": "code",
   "execution_count": null,
   "id": "d1a5b08e",
   "metadata": {},
   "outputs": [],
   "source": []
  },
  {
   "cell_type": "code",
   "execution_count": null,
   "id": "84cf7a60",
   "metadata": {},
   "outputs": [],
   "source": []
  }
 ],
 "metadata": {
  "language_info": {
   "name": "python"
  }
 },
 "nbformat": 4,
 "nbformat_minor": 5
}
