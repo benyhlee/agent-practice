{
 "cells": [
  {
   "cell_type": "markdown",
   "id": "e132a086",
   "metadata": {},
   "source": [
    "# **랭그래프 시작하기**\n",
    "pip install langgraph"
   ]
  },
  {
   "cell_type": "code",
   "execution_count": 3,
   "id": "caef0784",
   "metadata": {},
   "outputs": [
    {
     "data": {
      "text/plain": [
       "True"
      ]
     },
     "execution_count": 3,
     "metadata": {},
     "output_type": "execute_result"
    }
   ],
   "source": [
    "from dotenv import load_dotenv\n",
    "\n",
    "load_dotenv()"
   ]
  },
  {
   "cell_type": "markdown",
   "id": "763f71cf",
   "metadata": {},
   "source": [
    "## 상태(State)와 노드(Node)\n",
    "- 상태: 그래프에서 공유되는 데이터(보통 dict)\n",
    "- 노드: 특정 작업을 수행하는 곳(함수)"
   ]
  },
  {
   "cell_type": "code",
   "execution_count": 4,
   "id": "d2523459",
   "metadata": {},
   "outputs": [],
   "source": [
    "from typing_extensions import TypedDict # TypedDict는 딕셔너리의 키의 타입을 정의할 때 사용\n",
    "from langgraph.graph import StateGraph, START, END\n",
    "\n",
    "class State(TypedDict): # dict\n",
    "    counter: int # 첫 번재 키\n",
    "    strings: list[str] # 두 번째 키\n",
    "\n",
    "def node_a(state:State):\n",
    "    state['counter'] += 1\n",
    "    state['strings'] = ['Hello LangGraph']\n",
    "    return state"
   ]
  },
  {
   "cell_type": "markdown",
   "id": "72874e49",
   "metadata": {},
   "source": [
    "## 엣지(Edge)와 그래프(Graph)\n",
    "- 엣지: 노드 간의 연결 상태. 다음 작업을 수행할 노드를 결정\n",
    "- 그래프: 상태, 노드, 엣지를 요소로 그래프 형태로 이루어진 워크플로우"
   ]
  },
  {
   "cell_type": "code",
   "execution_count": 6,
   "id": "29f4da9a",
   "metadata": {},
   "outputs": [],
   "source": [
    "# 그래프 객체 생성\n",
    "graph_builder = StateGraph(State)\n",
    "\n",
    "# 노드 만들기\n",
    "graph_builder.add_node('chatbot', node_a)\n",
    "\n",
    "# 엣지 만들기\n",
    "graph_builder.add_edge(START, 'chatbot')\n",
    "graph_builder.add_edge('chatbot', END)\n",
    "\n",
    "# 컴파일\n",
    "graph = graph_builder.compile()"
   ]
  },
  {
   "cell_type": "code",
   "execution_count": 7,
   "id": "e01803b9",
   "metadata": {},
   "outputs": [
    {
     "data": {
      "image/png": "[encoded data removed]",
      "text/plain": [
       "<IPython.core.display.Image object>"
      ]
     },
     "metadata": {},
     "output_type": "display_data"
    }
   ],
   "source": [
    "# 그래프 시각화\n",
    "from IPython.display import Image, display\n",
    "\n",
    "display(Image(graph.get_graph().draw_mermaid_png()))"
   ]
  },
  {
   "cell_type": "markdown",
   "id": "ca9a40d1",
   "metadata": {},
   "source": [
    "## 그래프 실행"
   ]
  },
  {
   "cell_type": "code",
   "execution_count": 8,
   "id": "4e81971a",
   "metadata": {},
   "outputs": [
    {
     "name": "stdout",
     "output_type": "stream",
     "text": [
      "{'counter': 1, 'strings': ['Hello LangGraph']}\n"
     ]
    }
   ],
   "source": [
    "# 초기 상태 정의\n",
    "state = {\n",
    "    \"counter\":0,\n",
    "    \"strings\":[]\n",
    "}\n",
    "\n",
    "# 그래프를 따라 한 번 작업 수행\n",
    "state = graph.invoke(state)\n",
    "print(state)"
   ]
  },
  {
   "cell_type": "code",
   "execution_count": 9,
   "id": "6eb5e813",
   "metadata": {},
   "outputs": [
    {
     "name": "stdout",
     "output_type": "stream",
     "text": [
      "{'counter': 2, 'strings': ['Hello LangGraph']}\n",
      "{'counter': 3, 'strings': ['Hello LangGraph']}\n",
      "{'counter': 4, 'strings': ['Hello LangGraph']}\n"
     ]
    }
   ],
   "source": [
    "for _ in range(3):\n",
    "    state = graph.invoke(state)\n",
    "    print(state)"
   ]
  },
  {
   "cell_type": "markdown",
   "id": "92747c98",
   "metadata": {},
   "source": [
    "## Reducer\n",
    "reducer라는 개념은 상태(State)를 여러 번 업데이트할 때, 그 결과들을 어떻게 합칠지를 정의하는 함수를 말합니다."
   ]
  },
  {
   "cell_type": "code",
   "execution_count": 10,
   "id": "5130f13f",
   "metadata": {},
   "outputs": [
    {
     "name": "stdout",
     "output_type": "stream",
     "text": [
      "{'counter': 1, 'strings': ['Hello LangGraph']}\n",
      "{'counter': 2, 'strings': ['Hello LangGraph', 'Hello LangGraph']}\n",
      "{'counter': 3, 'strings': ['Hello LangGraph', 'Hello LangGraph', 'Hello LangGraph']}\n",
      "{'counter': 4, 'strings': ['Hello LangGraph', 'Hello LangGraph', 'Hello LangGraph', 'Hello LangGraph']}\n",
      "{'counter': 5, 'strings': ['Hello LangGraph', 'Hello LangGraph', 'Hello LangGraph', 'Hello LangGraph', 'Hello LangGraph']}\n"
     ]
    }
   ],
   "source": [
    "from typing import Annotated\n",
    "import operator\n",
    "\n",
    "class State(TypedDict):\n",
    "    counter: int \n",
    "    strings: Annotated[list[str], operator.add] # 누적해서 더함\n",
    "\n",
    "def node_a(state:State):\n",
    "    state['counter'] += 1\n",
    "    state['strings'] = ['Hello LangGraph']\n",
    "    return state\n",
    "\n",
    "graph_builder = StateGraph(State)\n",
    "graph_builder.add_node('chatbot', node_a)\n",
    "graph_builder.add_edge(START, 'chatbot')\n",
    "graph_builder.add_edge('chatbot', END)\n",
    "graph = graph_builder.compile()\n",
    "\n",
    "initial_state = {\n",
    "    \"counter\":0,\n",
    "    \"strings\":[]\n",
    "}\n",
    "\n",
    "state = initial_state\n",
    "\n",
    "for _ in range(5):\n",
    "    state = graph.invoke(state)\n",
    "    print(state)"
   ]
  },
  {
   "cell_type": "markdown",
   "id": "a1ebe308",
   "metadata": {},
   "source": [
    "## 조건 분기: Conditional Edge"
   ]
  },
  {
   "cell_type": "code",
   "execution_count": 35,
   "id": "4b79daf3",
   "metadata": {},
   "outputs": [],
   "source": [
    "def replace_reducer(old: list, new: list) -> list:\n",
    "    return new\n",
    "\n",
    "class State(TypedDict):\n",
    "    counter: int \n",
    "    strings: Annotated[list[str], replace_reducer]\n",
    "\n",
    "def node_a(state:State):\n",
    "    return {\n",
    "        'counter': state['counter'] + 1,\n",
    "        'strings': state['strings'] + ['Hello LangGraph']\n",
    "    }\n",
    "\n",
    "def node_b(state:State):\n",
    "    current_strings = state['strings']\n",
    "    new_strings = current_strings[:-2] if len(current_strings) >= 2 else []\n",
    "    return {\n",
    "        'counter': state['counter'] - 2,\n",
    "        'strings': new_strings\n",
    "    }\n",
    "\n",
    "def decide_next(state: State):\n",
    "    if state[\"counter\"] > 5:\n",
    "        return \"decrease\"\n",
    "    else:\n",
    "        return END\n",
    "\n",
    "graph_builder = StateGraph(State)\n",
    "graph_builder.add_node('chatbot', node_a)\n",
    "graph_builder.add_node('decrease', node_b)\n",
    "\n",
    "graph_builder.add_edge(START, 'chatbot')\n",
    "\n",
    "graph_builder.add_conditional_edges(\n",
    "    'chatbot',\n",
    "    decide_next,\n",
    "    {\"decrease\": \"decrease\", END: END}\n",
    ")\n",
    "\n",
    "# graph_builder.add_edge('chatbot', END)\n",
    "graph_builder.add_edge('decrease', 'chatbot')\n",
    "\n",
    "graph = graph_builder.compile()"
   ]
  },
  {
   "cell_type": "code",
   "execution_count": 36,
   "id": "c66ed621",
   "metadata": {},
   "outputs": [
    {
     "data": {
      "image/png": "[encoded data removed]",
      "text/plain": [
       "<IPython.core.display.Image object>"
      ]
     },
     "metadata": {},
     "output_type": "display_data"
    }
   ],
   "source": [
    "# 그래프 시각화\n",
    "from IPython.display import Image, display\n",
    "\n",
    "display(Image(graph.get_graph().draw_mermaid_png()))"
   ]
  },
  {
   "cell_type": "code",
   "execution_count": 37,
   "id": "0f519647",
   "metadata": {},
   "outputs": [
    {
     "name": "stdout",
     "output_type": "stream",
     "text": [
      "{'counter': 1, 'strings': ['Hello LangGraph']}\n",
      "{'counter': 2, 'strings': ['Hello LangGraph', 'Hello LangGraph']}\n",
      "{'counter': 3, 'strings': ['Hello LangGraph', 'Hello LangGraph', 'Hello LangGraph']}\n",
      "{'counter': 4, 'strings': ['Hello LangGraph', 'Hello LangGraph', 'Hello LangGraph', 'Hello LangGraph']}\n",
      "{'counter': 5, 'strings': ['Hello LangGraph', 'Hello LangGraph', 'Hello LangGraph', 'Hello LangGraph', 'Hello LangGraph']}\n",
      "{'counter': 5, 'strings': ['Hello LangGraph', 'Hello LangGraph', 'Hello LangGraph', 'Hello LangGraph', 'Hello LangGraph']}\n",
      "{'counter': 5, 'strings': ['Hello LangGraph', 'Hello LangGraph', 'Hello LangGraph', 'Hello LangGraph', 'Hello LangGraph']}\n"
     ]
    }
   ],
   "source": [
    "initial_state = {\n",
    "    \"counter\":0,\n",
    "    \"strings\":[]\n",
    "}\n",
    "\n",
    "state = initial_state\n",
    "\n",
    "for _ in range(7):\n",
    "    state = graph.invoke(state)\n",
    "    print(state)"
   ]
  },
  {
   "cell_type": "markdown",
   "id": "e8524f09",
   "metadata": {},
   "source": [
    "## Simple Chatbot"
   ]
  },
  {
   "cell_type": "code",
   "execution_count": 38,
   "id": "7b37995b",
   "metadata": {},
   "outputs": [
    {
     "data": {
      "image/png": "[encoded data removed]",
      "text/plain": [
       "<IPython.core.display.Image object>"
      ]
     },
     "metadata": {},
     "output_type": "display_data"
    }
   ],
   "source": [
    "from langchain_openai import ChatOpenAI\n",
    "from langgraph.graph.message import add_messages\n",
    "\n",
    "llm = ChatOpenAI(model='gpt-4o-mini')\n",
    "\n",
    "class State(TypedDict):\n",
    "    messages: Annotated[list[str], add_messages]\n",
    "\n",
    "graph_builder = StateGraph(State)\n",
    "\n",
    "def chatbot(state:State) -> dict:\n",
    "    return {\"messages\": [llm.invoke(state[\"messages\"])]}\n",
    "\n",
    "graph_builder.add_node('chatbot', chatbot)\n",
    "\n",
    "graph_builder.add_edge(START, 'chatbot')\n",
    "graph_builder.add_edge('chatbot', END)\n",
    "\n",
    "graph = graph_builder.compile()\n",
    "\n",
    "display(Image(graph.get_graph().draw_mermaid_png()))"
   ]
  },
  {
   "cell_type": "code",
   "execution_count": 40,
   "id": "9b780179",
   "metadata": {},
   "outputs": [
    {
     "name": "stdout",
     "output_type": "stream",
     "text": [
      "==========\n",
      "AI: 안녕하세요! 어떻게 도와드릴까요?\n",
      "==========\n",
      "AI: 일본의 수도는 도쿄입니다. 도쿄는 일본의 정치, 경제, 문화의 중심지로 알려져 있습니다.\n",
      "Goodbye!\n"
     ]
    }
   ],
   "source": [
    "# user input이 있으면 거기에 응답이 추가되지만 매번 입력할 때마다 dict 새로 생성됨. 히스토리 저장 못함.\n",
    "\n",
    "while True:\n",
    "    user_input = input(\"User: \")\n",
    "    if user_input.lower() in [\"exit\", \"quit\", \"q\"]:\n",
    "        print(\"Goodbye!\")\n",
    "        break\n",
    "\n",
    "    response = graph.invoke({\"messages\": (\"user\", user_input)})\n",
    "    # print(response)\n",
    "    # print(response[\"messages\"])\n",
    "    print('==========')\n",
    "    print('AI: ' + response[\"messages\"][-1].content)"
   ]
  },
  {
   "cell_type": "code",
   "execution_count": 41,
   "id": "74f16d9c",
   "metadata": {},
   "outputs": [
    {
     "name": "stdout",
     "output_type": "stream",
     "text": [
      "User\t: 안녕? 나는 이용환이야.\n",
      "==========\n",
      "AI\t:\n",
      "안녕하세요, 이용환님! 어떻게 도와드릴까요?\n",
      "\n",
      "==========\n",
      "User\t: 한국의 수도가 어디야?\n",
      "==========\n",
      "AI\t:\n",
      "한국의 수도는 서울입니다. 궁금한 점이 더 있으신가요?\n",
      "\n",
      "==========\n",
      "User\t: 한국과 일본 관계에 대해 설명해줘.\n",
      "==========\n",
      "AI\t:\n",
      "한국과 일본의 관계는 역사적으로 복잡하고 많은 변화를 겪어왔습니다. 주요 포인트를 살펴보면 다음과 같습니다.\n",
      "\n",
      "1. **역사적 배경**:\n",
      "   - 일본은 1910년부터 1945년까지 한반도를 식민지로 지배했습니다. 이 시기의 억압과 착취로 인해 양국 간의 감정은 매우 좋지 않았습니다.\n",
      "   - 제2차 세계대전 이후, 일본은 한국의 독립을 인정했지만, 식민지 시기에 대한 정당한 사과와 배상 문제는 여전히 논란이 되고 있습니다.\n",
      "\n",
      "2. **경제적 관계**:\n",
      "   - 한국과 일본은 오늘날 경제적으로 긴밀한 관계를 유지하고 있습니다. 두 나라는 서로 주요한 무역 파트너이며, 많은 기업들이 서로의 시장에 투자를 하고 있습니다.\n",
      "\n",
      "3. **정치적 갈등**:\n",
      "   - 역사 문제, 특히 위안부와 징용 문제, 독도(일본명: 다케시마) 영유권 주장 등에서 갈등이 지속되고 있습니다.\n",
      "   - 이러한 문제들은 두 나라 간의 외교 관계에 부정적인 영향을 미치고 있습니다.\n",
      "\n",
      "4. **문화적 교류**:\n",
      "   - 최근 몇 년간 K-팝, 드라마 등 한국 대중문화가 일본에서 인기를 끌며 문화적 교류가 활발해졌습니다. 이는 양국 간의 이해를 돕는 긍정적인 요소로 작용하고 있습니다.\n",
      "\n",
      "5. **국제적 협력**:\n",
      "   - 한국과 일본은 미국과 함께 안보 협력을 통해 북한의 핵 위협에 대응하고 있으며, 아시아 지역의 안정을 위해 협력하고 있습니다.\n",
      "\n",
      "이렇게 한국과 일본의 관계는 역사적 긴장감 속에서도 경제적 협력과 문화적 교류를 통해 발전하고 있습니다. 더 알고 싶은 부분이 있나요?\n",
      "\n",
      "==========\n",
      "Goodbye!\n"
     ]
    }
   ],
   "source": [
    "# MemorySaver를 사용해서 히스토리 저장하기\n",
    "from langgraph.checkpoint.memory import MemorySaver\n",
    "\n",
    "graph_builder = StateGraph(State)\n",
    "\n",
    "graph_builder.add_node('chatbot', chatbot)\n",
    "\n",
    "graph_builder.add_edge(START, 'chatbot')\n",
    "graph_builder.add_edge('chatbot', END)\n",
    "\n",
    "memory = MemorySaver()\n",
    "\n",
    "config = {\"configurable\": {\"thread_id\": \"abcd\"}}\n",
    "\n",
    "graph = graph_builder.compile(checkpointer = memory)\n",
    "\n",
    "while True:\n",
    "    user_input = input(\"User: \")\n",
    "    if user_input.lower() in [\"exit\", \"quit\", \"q\"]:\n",
    "        print(\"Goodbye!\")\n",
    "        break\n",
    "\n",
    "    ## (1) invoke mode\n",
    "    # response = graph.invoke({\"messages\": (\"user\", user_input)}, config=config)\n",
    "    # # print(response)\n",
    "    # # print(response[\"messages\"])\n",
    "    # print('==========')\n",
    "    # print('AI: ' + response[\"messages\"][-1].content)\n",
    "    \n",
    "    # (2) stream mode\n",
    "    print('User\\t:', user_input)\n",
    "    print('==========')\n",
    "    print('AI\\t:')\n",
    "    for chunk, _ in graph.stream({\"messages\": (\"user\", user_input)}, config=config, stream_mode=\"messages\"):\n",
    "        print(chunk.content, end=\"\")\n",
    "    print('==========')"
   ]
  },
  {
   "cell_type": "markdown",
   "id": "7b8f1803",
   "metadata": {},
   "source": [
    "## 도구 사용"
   ]
  },
  {
   "cell_type": "code",
   "execution_count": 47,
   "id": "abc94aea",
   "metadata": {},
   "outputs": [],
   "source": [
    "from langchain_core.tools import tool\n",
    "from langgraph.prebuilt import ToolNode\n",
    "from typing import Annotated, Literal, TypedDict\n",
    "from langgraph.graph import START, END, StateGraph, MessagesState"
   ]
  },
  {
   "cell_type": "code",
   "execution_count": 53,
   "id": "22a64fb4",
   "metadata": {},
   "outputs": [],
   "source": [
    "@tool\n",
    "def get_weather(location: str):\n",
    "    \"\"\"지역의 날씨를 반환하는 함수\"\"\"\n",
    "    if location in [\"서울\", \"인천\"]:\n",
    "        return \"날씨는 흐리고 기온은 섭씨 30도입니다..\"\n",
    "    else:\n",
    "        return \"날씨는 맑고 기온은 섭씨 25도입니다..\"\n",
    "    \n",
    "@tool\n",
    "def get_coolest_cities():\n",
    "    \"\"\"가장 추운 도시를 반환하는 함수\"\"\"\n",
    "    return \"고성\"\n",
    "\n",
    "tools = [get_weather, get_coolest_cities]"
   ]
  },
  {
   "cell_type": "code",
   "execution_count": 54,
   "id": "9c84a49f",
   "metadata": {},
   "outputs": [],
   "source": [
    "llm = ChatOpenAI(model='gpt-4o-mini', temperature=0)\n",
    "model_with_tools = llm.bind_tools(tools)"
   ]
  },
  {
   "cell_type": "code",
   "execution_count": 55,
   "id": "8af17c4a",
   "metadata": {},
   "outputs": [],
   "source": [
    "def should_continue(state: MessagesState) -> Literal[\"tools\", END]:\n",
    "    messages = state[\"messages\"]\n",
    "    last_message = messages[-1]\n",
    "    if last_message.tool_calls:\n",
    "        return \"tools\"\n",
    "    return END\n",
    "\n",
    "def call_model(state: MessagesState):\n",
    "    messages = state[\"messages\"]\n",
    "    response = model_with_tools.invoke(messages)\n",
    "    return {\"messages\": [response]}\n",
    "\n",
    "tool_node = ToolNode(tools)"
   ]
  },
  {
   "cell_type": "code",
   "execution_count": 56,
   "id": "57f15b6c",
   "metadata": {},
   "outputs": [
    {
     "data": {
      "image/png": "[encoded data removed]",
      "text/plain": [
       "<IPython.core.display.Image object>"
      ]
     },
     "metadata": {},
     "output_type": "display_data"
    }
   ],
   "source": [
    "graph_builder = StateGraph(MessagesState)\n",
    "\n",
    "graph_builder.add_node('chatbot', call_model)\n",
    "graph_builder.add_node(\"tools\", tool_node)\n",
    "\n",
    "graph_builder.add_conditional_edges(\n",
    "    \"chatbot\",\n",
    "    should_continue\n",
    ")\n",
    "\n",
    "graph_builder.add_edge(START, \"chatbot\")\n",
    "graph_builder.add_edge(\"tools\", \"chatbot\")\n",
    "\n",
    "memory = MemorySaver()\n",
    "config = {\"configurable\": {\"thread_id\": \"abcde\"}}\n",
    "\n",
    "graph = graph_builder.compile(checkpointer = memory)\n",
    "\n",
    "display(Image(graph.get_graph().draw_mermaid_png()))"
   ]
  },
  {
   "cell_type": "code",
   "execution_count": 57,
   "id": "fb1d0e05",
   "metadata": {},
   "outputs": [
    {
     "name": "stdout",
     "output_type": "stream",
     "text": [
      "User\t: 안녕? 나는 이용환이야.\n",
      "==========\n",
      "AI\t: 안녕하세요, 이용환님! 어떻게 도와드릴까요?\n",
      "==========\n",
      "User\t: 한국의 수도는 어디야?\n",
      "==========\n",
      "AI\t: 한국의 수도는 서울입니다. 서울은 한국의 정치, 경제, 문화의 중심지로 알려져 있습니다. 다른 질문이 있으신가요?\n",
      "==========\n",
      "User\t: 내 이름이 뭐지?\n",
      "==========\n",
      "AI\t: 당신의 이름은 이용환입니다. 다른 질문이 있으신가요?\n",
      "==========\n",
      "User\t: 서울 날씨 어때?\n",
      "==========\n",
      "AI\t: 서울의 날씨는 흐리고 기온은 섭씨 30도입니다. 다른 정보가 필요하신가요?\n",
      "==========\n",
      "User\t: 한국에서 가장 추운 도시는 어디야?\n",
      "==========\n",
      "AI\t: 한국에서 가장 추운 도시는 고성입니다. 다른 질문이 있으신가요?\n",
      "==========\n",
      "User\t: 고성 날씨는 어때?\n",
      "==========\n",
      "AI\t: 고성의 날씨는 맑고 기온은 섭씨 25도입니다. 추가로 궁금한 점이 있으신가요?\n",
      "==========\n",
      "Goodbye!\n"
     ]
    }
   ],
   "source": [
    "while True:\n",
    "    user_input = input(\"User: \")\n",
    "    if user_input.lower() in [\"exit\", \"quit\", \"q\"]:\n",
    "        print(\"Goodbye!\")\n",
    "        break\n",
    "\n",
    "    # (1) invoke mode\n",
    "    print('User\\t:', user_input)\n",
    "    response = graph.invoke({\"messages\": (\"user\", user_input)}, config=config)\n",
    "    # print(response)\n",
    "    # print(response[\"messages\"])\n",
    "    print('==========')\n",
    "    print('AI\\t:', response[\"messages\"][-1].content)\n",
    "    print('==========')\n",
    "    \n",
    "    # # (2) stream mode\n",
    "    # print('User\\t:', user_input)\n",
    "    # print('==========')\n",
    "    # print('AI\\t:')\n",
    "    # for chunk, _ in graph.stream({\"messages\": (\"user\", user_input)}, config=config, stream_mode=\"messages\"):\n",
    "    #     print(chunk.content, end=\"\")\n",
    "    # print('==========')"
   ]
  },
  {
   "cell_type": "code",
   "execution_count": null,
   "id": "3fab2bcc",
   "metadata": {},
   "outputs": [],
   "source": [
    "\"가장 추운 도시의 날씨는 어때?\""
   ]
  },
  {
   "cell_type": "code",
   "execution_count": null,
   "id": "31625c3a",
   "metadata": {},
   "outputs": [],
   "source": []
  },
  {
   "cell_type": "code",
   "execution_count": null,
   "id": "54c0011e",
   "metadata": {},
   "outputs": [],
   "source": []
  }
 ],
 "metadata": {
  "kernelspec": {
   "display_name": ".venv",
   "language": "python",
   "name": "python3"
  },
  "language_info": {
   "codemirror_mode": {
    "name": "ipython",
    "version": 3
   },
   "file_extension": ".py",
   "mimetype": "text/x-python",
   "name": "python",
   "nbconvert_exporter": "python",
   "pygments_lexer": "ipython3",
   "version": "3.13.5"
  }
 },
 "nbformat": 4,
 "nbformat_minor": 5
}
