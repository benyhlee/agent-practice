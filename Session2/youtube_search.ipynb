{
 "cells": [
  {
   "cell_type": "markdown",
   "id": "70a40e18",
   "metadata": {},
   "source": [
    "# **YouTube Search**\n",
    "pip install youtube-search  \n",
    "pip install youtube-transcript-api"
   ]
  },
  {
   "cell_type": "markdown",
   "id": "eefb30c5",
   "metadata": {},
   "source": [
    "## YoutubeSearch"
   ]
  },
  {
   "cell_type": "code",
   "execution_count": 1,
   "id": "985c2b31",
   "metadata": {},
   "outputs": [
    {
     "data": {
      "text/plain": [
       "<youtube_search.YoutubeSearch at 0x18471aa2ba0>"
      ]
     },
     "execution_count": 1,
     "metadata": {},
     "output_type": "execute_result"
    }
   ],
   "source": [
    "from youtube_search import YoutubeSearch\n",
    "\n",
    "query = \"인공지능 에이전트\"\n",
    "# query = \"What is RAG?\"\n",
    "videos = YoutubeSearch(query, max_results=3)\n",
    "videos"
   ]
  },
  {
   "cell_type": "code",
   "execution_count": 2,
   "id": "f7244022",
   "metadata": {},
   "outputs": [
    {
     "data": {
      "text/plain": [
       "[{'id': '1s35ZBwXn34',\n",
       "  'thumbnails': ['https://i.ytimg.com/vi/1s35ZBwXn34/hq720.jpg?sqp=-oaymwEjCOgCEMoBSFryq4qpAxUIARUAAAAAGAElAADIQj0AgKJDeAE=&rs=AOn4CLBI8n1HOYbUYGroq_XkclvoPU-MOA',\n",
       "   'https://i.ytimg.com/vi/1s35ZBwXn34/hq720.jpg?sqp=-oaymwEXCNAFEJQDSFryq4qpAwkIARUAAIhCGAE=&rs=AOn4CLANvMXIXs4rurZAq6H5X7jF1UyPlg'],\n",
       "  'title': '인간 직업 70% 사라진다, AI에이전트가 바꿀 미래 시나리오  / 구글 제미나이 충격!  환각’ 줄인 AI, 1년마다 100배 똑똑해진다ㅣ솔트룩스 이경일 대표 (풀버전)',\n",
       "  'long_desc': None,\n",
       "  'channel': '815머니톡',\n",
       "  'duration': '55:33',\n",
       "  'views': '조회수 45,539회',\n",
       "  'publish_time': '3개월 전',\n",
       "  'url_suffix': '/watch?v=1s35ZBwXn34&pp=ygUZ7J246rO17KeA64qlIOyXkOydtOyghO2KuA%3D%3D'},\n",
       " {'id': 'u1V7wJMX0r8',\n",
       "  'thumbnails': ['https://i.ytimg.com/vi/u1V7wJMX0r8/hq720.jpg?sqp=-oaymwEjCOgCEMoBSFryq4qpAxUIARUAAAAAGAElAADIQj0AgKJDeAE=&rs=AOn4CLA_SfLgqq7xIrRbWigy7oEvxzGzhA',\n",
       "   'https://i.ytimg.com/vi/u1V7wJMX0r8/hq720.jpg?sqp=-oaymwEXCNAFEJQDSFryq4qpAwkIARUAAIhCGAE=&rs=AOn4CLD4O70w1Op_f--XML3HlXRxBV7R6Q'],\n",
       "  'title': '에이 설마 내 밥줄이 끊길까... 심상치 않은 AI 에이전트 근황 / 오그랲 / 비디오머그',\n",
       "  'long_desc': None,\n",
       "  'channel': '비디오머그 - VIDEOMUG',\n",
       "  'duration': '15:29',\n",
       "  'views': '조회수 169,233회',\n",
       "  'publish_time': '5개월 전',\n",
       "  'url_suffix': '/watch?v=u1V7wJMX0r8&pp=ygUZ7J246rO17KeA64qlIOyXkOydtOyghO2KuA%3D%3D'},\n",
       " {'id': 'SfO8g0fcEpA',\n",
       "  'thumbnails': ['https://i.ytimg.com/vi/SfO8g0fcEpA/hq720.jpg?sqp=-oaymwEjCOgCEMoBSFryq4qpAxUIARUAAAAAGAElAADIQj0AgKJDeAE=&rs=AOn4CLC3mI1MEb1E6LH1pJHDSbKsbyBw4w',\n",
       "   'https://i.ytimg.com/vi/SfO8g0fcEpA/hq720.jpg?sqp=-oaymwEXCNAFEJQDSFryq4qpAwkIARUAAIhCGAE=&rs=AOn4CLCvxyhVHvVq-lbQpcX50L7QnLsUvw'],\n",
       "  'title': '\"50 60도 알아야 해요\\' AI 시대, 3가지 능력만 살아남는다 [이경일 대표 풀버전]',\n",
       "  'long_desc': None,\n",
       "  'channel': '부읽남TV_내집마련부터건물주까지',\n",
       "  'duration': '1:22:41',\n",
       "  'views': '조회수 563,807회',\n",
       "  'publish_time': '2개월 전',\n",
       "  'url_suffix': '/watch?v=SfO8g0fcEpA&pp=ygUZ7J246rO17KeA64qlIOyXkOydtOyghO2KuA%3D%3D'}]"
      ]
     },
     "execution_count": 2,
     "metadata": {},
     "output_type": "execute_result"
    }
   ],
   "source": [
    "videos = videos.to_dict()\n",
    "videos"
   ]
  },
  {
   "cell_type": "code",
   "execution_count": null,
   "id": "756b2581",
   "metadata": {},
   "outputs": [],
   "source": [
    "len(videos)"
   ]
  },
  {
   "cell_type": "code",
   "execution_count": null,
   "id": "ce52c890",
   "metadata": {},
   "outputs": [],
   "source": [
    "# 너무 긴 영상 걸러내기: 60분 이하\n",
    "print('총 영상 수:', len(videos))\n",
    "\n",
    "filtered_videos = []\n",
    "for v in videos:\n",
    "    if type(v['duration']) == str:\n",
    "        if len(v['duration'].split(':')) < 3:\n",
    "            filtered_videos.append(v)\n",
    "\n",
    "print('60분 이하 영상 수:', len(filtered_videos))"
   ]
  },
  {
   "cell_type": "code",
   "execution_count": null,
   "id": "c5339520",
   "metadata": {},
   "outputs": [],
   "source": [
    "# 비디오 id 추출\n",
    "video_ids = [v['id'] for v in filtered_videos]\n",
    "video_ids"
   ]
  },
  {
   "cell_type": "markdown",
   "id": "6d6e5fcb",
   "metadata": {},
   "source": [
    "## YouTubeTranscriptApi"
   ]
  },
  {
   "cell_type": "markdown",
   "id": "89b4d4aa",
   "metadata": {},
   "source": [
    "### 검색된 영상의 자막 가져오기"
   ]
  },
  {
   "cell_type": "code",
   "execution_count": null,
   "id": "6638923f",
   "metadata": {},
   "outputs": [],
   "source": [
    "from youtube_transcript_api import YouTubeTranscriptApi\n",
    "\n",
    "ytt = YouTubeTranscriptApi()\n",
    "\n",
    "fetched_transcript = ytt.fetch(video_ids[0], languages=['ko', 'en'])"
   ]
  },
  {
   "cell_type": "code",
   "execution_count": null,
   "id": "67d4a1f0",
   "metadata": {},
   "outputs": [],
   "source": [
    "fetched_transcript"
   ]
  },
  {
   "cell_type": "code",
   "execution_count": null,
   "id": "19ec6233",
   "metadata": {},
   "outputs": [],
   "source": [
    "full_transcript = \"\"\n",
    "for segment in fetched_transcript:\n",
    "    full_transcript += segment.text + \" \"\n",
    "print(f\"총글자수: {len(full_transcript)}\")\n",
    "print(full_transcript)"
   ]
  },
  {
   "cell_type": "markdown",
   "id": "40b9b394",
   "metadata": {},
   "source": [
    "### 자막 번역하기"
   ]
  },
  {
   "cell_type": "code",
   "execution_count": null,
   "id": "05905595",
   "metadata": {},
   "outputs": [],
   "source": [
    "transcript_list = ytt.list(video_ids[0])\n",
    "transcript_list"
   ]
  },
  {
   "cell_type": "code",
   "execution_count": null,
   "id": "9f13bffd",
   "metadata": {},
   "outputs": [],
   "source": [
    "transcript = transcript_list.find_transcript(['en'])\n",
    "transcript"
   ]
  },
  {
   "cell_type": "code",
   "execution_count": null,
   "id": "aae713bf",
   "metadata": {},
   "outputs": [],
   "source": [
    "print(\n",
    "    transcript.video_id,\n",
    "    transcript.language,\n",
    "    transcript.language_code, \n",
    "    transcript.is_generated, # whether it has been manually created or generated by YouTube\n",
    "    transcript.is_translatable, # whether this transcript can be translated or not\n",
    "    transcript.translation_languages, # a list of languages the transcript can be translated to\n",
    ")"
   ]
  },
  {
   "cell_type": "code",
   "execution_count": null,
   "id": "9c8f43b1",
   "metadata": {},
   "outputs": [],
   "source": [
    "fetched_transcript = transcript.fetch()\n",
    "\n",
    "full_transcript = \"\"\n",
    "for segment in fetched_transcript:\n",
    "    full_transcript += segment.text + \" \"\n",
    "\n",
    "full_transcript"
   ]
  },
  {
   "cell_type": "code",
   "execution_count": null,
   "id": "db43d421",
   "metadata": {},
   "outputs": [],
   "source": [
    "# 번역하기\n",
    "translated_transcript = transcript.translate('ko')"
   ]
  },
  {
   "cell_type": "code",
   "execution_count": null,
   "id": "b2225c59",
   "metadata": {},
   "outputs": [],
   "source": [
    "fetched_transcript = translated_transcript.fetch()\n",
    "\n",
    "full_ko_transcript = \"\"\n",
    "for segment in fetched_transcript:\n",
    "    full_ko_transcript += segment.text + \" \"\n",
    "\n",
    "full_ko_transcript"
   ]
  },
  {
   "cell_type": "markdown",
   "id": "e66793c9",
   "metadata": {},
   "source": [
    "## 유튜브 검색하고 답하는 에이전트"
   ]
  },
  {
   "cell_type": "code",
   "execution_count": null,
   "id": "0f84d80b",
   "metadata": {},
   "outputs": [],
   "source": [
    "from langchain_openai import ChatOpenAI\n",
    "from dotenv import load_dotenv\n",
    "from youtube_search import YoutubeSearch\n",
    "from youtube_transcript_api import YouTubeTranscriptApi\n",
    "from langchain_core.prompts import ChatPromptTemplate\n",
    "from langchain_core.output_parsers import StrOutputParser\n",
    "\n",
    "load_dotenv()\n",
    "\n",
    "# llm 모델 선정\n",
    "llm = ChatOpenAI(model=\"gpt-4o-mini\")\n",
    "\n",
    "# 유튜브 검색\n",
    "query = \"What is LangGraph?\"\n",
    "\n",
    "videos = YoutubeSearch(query, max_results=3).to_dict()\n",
    "\n",
    "# 너무 긴 영상 걸러내기: 60분 이하\n",
    "print('총 영상 수:', len(videos))\n",
    "\n",
    "filtered_videos = []\n",
    "for v in videos:\n",
    "    if type(v['duration']) == str:\n",
    "        if len(v['duration'].split(':')) < 3:\n",
    "            filtered_videos.append(v)\n",
    "\n",
    "print('60분 이하 영상 수:', len(filtered_videos))\n",
    "\n",
    "# 비디오 id 추출\n",
    "video_ids = [v['id'] for v in filtered_videos]"
   ]
  },
  {
   "cell_type": "code",
   "execution_count": null,
   "id": "48db57d3",
   "metadata": {},
   "outputs": [],
   "source": [
    "# 자막 추출\n",
    "ytt = YouTubeTranscriptApi()\n",
    "fetched_transcript = ytt.fetch(video_ids[1], languages=['ko', 'en'])\n",
    "\n",
    "full_transcript = \"\"\n",
    "for segment in fetched_transcript:\n",
    "    full_transcript += segment.text + \" \""
   ]
  },
  {
   "cell_type": "code",
   "execution_count": null,
   "id": "233bf4dd",
   "metadata": {},
   "outputs": [],
   "source": [
    "# 프롬프트 템플릿 작성\n",
    "prompt = ChatPromptTemplate.from_template(\n",
    "    \"\"\"\n",
    "    당신은 사용자의 질문에 친절히 답하는 조력자입니다. 주어진 유튜브 검색 영상의 자막을 이용해 한국어로 질문에 답하세요.\n",
    "    핵심만 간결하게 정리해서 markdown 형식으로 답하고 출처도 표시할 수 있으면 해주세요.\n",
    "\n",
    "    질문: {query}\n",
    "\n",
    "    검색결과: {contents}\n",
    "    \"\"\"\n",
    ")\n",
    "# 체인으로 연결하여 에이전트 구성\n",
    "agent = prompt | llm | StrOutputParser()\n",
    "\n",
    "# 유튜브 검색 기반 답변 구하기\n",
    "response = agent.invoke({\"query\": query, \"contents\": full_transcript})\n",
    "\n",
    "print(response)"
   ]
  },
  {
   "cell_type": "markdown",
   "id": "f0ead082",
   "metadata": {},
   "source": [
    "## LangGraph 개요\n",
    "\n",
    "- **정의**: LangGraph는 Lang chain에 의해 개발된 AI 에이전트 구축 프레임워크입니다. 고도로 유연하여 언어 모델을 연결하고 다음에 어떤 작업이 수행될지를 제어할 수 있습니다.\n",
    "  \n",
    "- **프로그래밍 언어**: Python 및 JavaScript에서 지원되며, 2023년 10월에 출시되었습니다.\n",
    "\n",
    "- **주요 특징**:\n",
    "  - **스트리밍 지원**: 메시지 또는 토큰 기반으로 실시간 처리 가능.\n",
    "  - **비동기 실행**: 여러 작업을 동시에 수행할 수 있음.\n",
    "  - **상태 지속성**: 데이터베이스를 사용해 상태를 유지할 수 있음.\n",
    "  - **인간 개입 실행**: 중요한 작업에 대해 사람의 승인을 요구할 수 있음.\n",
    "  \n",
    "- **응용 사례**:\n",
    "  - 고객 지원 에이전트\n",
    "  - 정보 수집 및 보고서 작성\n",
    "  - 맞춤형 분석 도구\n",
    "  - 개인화된 추천 시스템\n",
    "  - 최신 트렌드 또는 자료 연구\n",
    "\n",
    "- **구성 요소**:\n",
    "  - **노드**: 실행할 코드를 포함.\n",
    "  - **에지**: 어떤 노드가 다음에 실행될지를 결정.\n",
    "  - **상태**: 입력, 출력 및 변수를 저장.\n",
    "\n",
    "출처: 유튜브 자막 요약"
   ]
  },
  {
   "cell_type": "code",
   "execution_count": null,
   "id": "3e140ba7",
   "metadata": {},
   "outputs": [],
   "source": [
    "# 모든 비디오에 대해 요약 답변 생성\n",
    "from tqdm import tqdm # tqdm은 진행 상황을 보여주는 라이브러리\n",
    "\n",
    "for v in tqdm(filtered_videos):\n",
    "    fetched_transcript = ytt.fetch(v['id'], languages=['ko', 'en'])\n",
    "    full_transcript = \"\"\n",
    "    for segment in fetched_transcript:\n",
    "        full_transcript += segment.text + \" \"    \n",
    "\n",
    "    v['summary'] = agent.invoke({\"query\": query, \"contents\": full_transcript})\n",
    "   \n",
    "filtered_videos"
   ]
  },
  {
   "cell_type": "code",
   "execution_count": null,
   "id": "0f81cdfd",
   "metadata": {},
   "outputs": [],
   "source": []
  },
  {
   "cell_type": "code",
   "execution_count": null,
   "id": "ded77ab2",
   "metadata": {},
   "outputs": [],
   "source": []
  }
 ],
 "metadata": {
  "kernelspec": {
   "display_name": ".venv",
   "language": "python",
   "name": "python3"
  },
  "language_info": {
   "codemirror_mode": {
    "name": "ipython",
    "version": 3
   },
   "file_extension": ".py",
   "mimetype": "text/x-python",
   "name": "python",
   "nbconvert_exporter": "python",
   "pygments_lexer": "ipython3",
   "version": "3.13.5"
  }
 },
 "nbformat": 4,
 "nbformat_minor": 5
}
