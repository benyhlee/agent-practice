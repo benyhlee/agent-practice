{
 "cells": [
  {
   "cell_type": "markdown",
   "id": "103278ae",
   "metadata": {},
   "source": [
    "# LLM API로 간단한 챗봇 만들기"
   ]
  },
  {
   "cell_type": "markdown",
   "id": "1e4404b0",
   "metadata": {},
   "source": [
    "## 1. OpenAI API"
   ]
  },
  {
   "cell_type": "markdown",
   "id": "e14b7360",
   "metadata": {},
   "source": [
    "### 필요한 모듈\n",
    "pip install openai  \n",
    "pip install python-dotenv  \n",
    "pip install ipykernel  \n",
    "\n",
    "Installing collected packages: typing-extensions, sniffio, jiter, idna, h11, distro, colorama, certifi, annotated-types, typing-inspection, tqdm, pydantic-core, httpcore, anyio, pydantic, httpx, openai"
   ]
  },
  {
   "cell_type": "markdown",
   "id": "fba99ca9",
   "metadata": {},
   "source": [
    "### Single Turn Chatbot"
   ]
  },
  {
   "cell_type": "code",
   "execution_count": 1,
   "id": "56d1eeca",
   "metadata": {},
   "outputs": [
    {
     "data": {
      "text/plain": [
       "True"
      ]
     },
     "execution_count": 1,
     "metadata": {},
     "output_type": "execute_result"
    }
   ],
   "source": [
    "from openai import OpenAI\n",
    "from dotenv import load_dotenv\n",
    "\n",
    "load_dotenv()"
   ]
  },
  {
   "cell_type": "code",
   "execution_count": 2,
   "id": "edb0fb8a",
   "metadata": {},
   "outputs": [
    {
     "name": "stdout",
     "output_type": "stream",
     "text": [
      "ChatCompletion(id='chatcmpl-CCkjSsBrHrmdKOUnaKfqmtXSedK6x', choices=[Choice(finish_reason='stop', index=0, logprobs=None, message=ChatCompletionMessage(content='한국의 수도는 서울입니다.', refusal=None, role='assistant', annotations=[], audio=None, function_call=None, tool_calls=None))], created=1757155610, model='gpt-4o-2024-08-06', object='chat.completion', service_tier='default', system_fingerprint='fp_cbf1785567', usage=CompletionUsage(completion_tokens=7, prompt_tokens=29, total_tokens=36, completion_tokens_details=CompletionTokensDetails(accepted_prediction_tokens=0, audio_tokens=0, reasoning_tokens=0, rejected_prediction_tokens=0), prompt_tokens_details=PromptTokensDetails(audio_tokens=0, cached_tokens=0)))\n"
     ]
    }
   ],
   "source": [
    "client = OpenAI()\n",
    "\n",
    "response = client.chat.completions.create(\n",
    "    model=\"gpt-4o\",\n",
    "    temperature = 0.5, # 1에 가까울수록 창의적 답변\n",
    "    messages = [\n",
    "        {\"role\":\"system\", \"content\":\"너는 사용자를 도와주는 상담사야.\"},\n",
    "        {\"role\":\"user\", \"content\":\"한국의 수도는 어디야?\"},\n",
    "    ]\n",
    "    )\n",
    "print(response)"
   ]
  },
  {
   "cell_type": "code",
   "execution_count": 3,
   "id": "cc52fa41",
   "metadata": {},
   "outputs": [
    {
     "name": "stdout",
     "output_type": "stream",
     "text": [
      "AI: 한국의 수도는 서울입니다.\n"
     ]
    }
   ],
   "source": [
    "print(\"AI: \" + response.choices[0].message.content)"
   ]
  },
  {
   "cell_type": "code",
   "execution_count": null,
   "id": "2ddc4289",
   "metadata": {},
   "outputs": [],
   "source": [
    "client = OpenAI()\n",
    "\n",
    "while True:\n",
    "    user_input = input(\"사용자: \")\n",
    "    if user_input == \"exit\":\n",
    "        break\n",
    "    response = client.chat.completions.create(\n",
    "    model=\"gpt-4o\",\n",
    "    temperature = 0.5,\n",
    "    messages = [\n",
    "        {\"role\":\"system\", \"content\":\"너는 사용자를 도와주는 친절한 조력자야.\"},\n",
    "        {\"role\":\"user\", \"content\":user_input},\n",
    "    ]\n",
    "    )\n",
    "    print(\"AI: \" + response.choices[0].message.content)"
   ]
  },
  {
   "cell_type": "markdown",
   "id": "030ad465",
   "metadata": {},
   "source": [
    "### Multi-turn Chatbot"
   ]
  },
  {
   "cell_type": "code",
   "execution_count": null,
   "id": "cac17fdc",
   "metadata": {},
   "outputs": [
    {
     "name": "stdout",
     "output_type": "stream",
     "text": [
      "AI: 안녕하세요, 이용환님! 만나서 반갑습니다. 어떻게 도와드릴까요?\n",
      "AI: 일본의 수도는 도쿄입니다. 도쿄는 일본의 정치, 경제, 문화의 중심지로 잘 알려져 있습니다. 추가로 궁금한 점이 있으면 언제든지 물어보세요!\n",
      "AI: 당신은 자신을 이용환이라고 소개하셨어요. 다른 궁금한 점이 있으면 말씀해 주세요!\n"
     ]
    }
   ],
   "source": [
    "client = OpenAI()\n",
    "\n",
    "def get_ai_response(messages):\n",
    "    response = client.chat.completions.create(\n",
    "        model=\"gpt-4o\",\n",
    "        temperature = 0.5,\n",
    "        messages = messages,\n",
    "    )\n",
    "    return response.choices[0].message.content\n",
    "\n",
    "messages = [\n",
    "    {\"role\":\"system\", \"content\":\"너는 사용자를 도와주는 친절한 조력자야.\"}\n",
    "]\n",
    "\n",
    "while True:\n",
    "    user_input = input(\"사용자: \")\n",
    "    if user_input == \"exit\":\n",
    "        break\n",
    "    messages.append({\"role\": \"user\", \"content\": user_input})\n",
    "    ai_msg = get_ai_response(messages)\n",
    "    messages.append({\"role\": \"assistant\", \"content\": ai_msg})\n",
    "    print(\"AI: \"+ ai_msg)\n",
    "\n",
    "\n"
   ]
  },
  {
   "cell_type": "markdown",
   "id": "8ad51e8b",
   "metadata": {},
   "source": [
    "## 2. Anthropic API"
   ]
  },
  {
   "cell_type": "markdown",
   "id": "f4beabfb",
   "metadata": {},
   "source": [
    "pip install anthropic  \n",
    "\n",
    "models: https://docs.anthropic.com/en/docs/resources/model-deprecations"
   ]
  },
  {
   "cell_type": "code",
   "execution_count": null,
   "id": "b67ae937",
   "metadata": {},
   "outputs": [
    {
     "name": "stdout",
     "output_type": "stream",
     "text": [
      "Message(id='msg_012DFPiQ9m8E53NYMs5WdCz3', content=[TextBlock(citations=None, text='한국의 수도는 서울입니다. 서울은 한국의 정치, 경제, 문화의 중심지로, 약 1,000만 명의 인구가 거주하고 있는 대도시입니다.', type='text')], model='claude-3-7-sonnet-20250219', role='assistant', stop_reason='end_turn', stop_sequence=None, type='message', usage=Usage(cache_creation=CacheCreation(ephemeral_1h_input_tokens=0, ephemeral_5m_input_tokens=0), cache_creation_input_tokens=0, cache_read_input_tokens=0, input_tokens=38, output_tokens=74, server_tool_use=None, service_tier='standard'))\n"
     ]
    }
   ],
   "source": [
    "import anthropic\n",
    "\n",
    "client = anthropic.Anthropic()\n",
    "\n",
    "response = client.messages.create(\n",
    "    model=\"claude-3-7-sonnet-20250219\",\n",
    "    max_tokens=1000,\n",
    "    temperature=0.5,  # 1에 가까울수록 창의적 답변\n",
    "    system=\"너는 사용자를 도와주는 친절한 조력자야.\",\n",
    "    messages=[\n",
    "        {\"role\": \"user\", \"content\": \"한국의 수도는 어디야?\"}\n",
    "    ]\n",
    ")\n",
    "\n",
    "print(response)"
   ]
  },
  {
   "cell_type": "code",
   "execution_count": 7,
   "id": "a1d76557",
   "metadata": {},
   "outputs": [
    {
     "name": "stdout",
     "output_type": "stream",
     "text": [
      "AI :한국의 수도는 서울입니다. 서울은 한국의 정치, 경제, 문화의 중심지로, 약 1,000만 명의 인구가 거주하고 있는 대도시입니다.\n"
     ]
    }
   ],
   "source": [
    "print('AI :' + response.content[0].text)"
   ]
  },
  {
   "cell_type": "markdown",
   "id": "4e24fb04",
   "metadata": {},
   "source": [
    "# Function Calling"
   ]
  },
  {
   "cell_type": "code",
   "execution_count": null,
   "id": "2b09cc43",
   "metadata": {},
   "outputs": [
    {
     "name": "stdout",
     "output_type": "stream",
     "text": [
      "AI: 죄송하지만, 현재 시간을 확인해 드릴 수는 없습니다. 사용 중인 기기나 시계를 통해 현재 시간을 확인해 보세요.\n"
     ]
    }
   ],
   "source": [
    "# 테스트 질문: 지금 몇 시야?\n",
    "\n",
    "client = OpenAI()\n",
    "\n",
    "def get_ai_response(messages):\n",
    "    response = client.chat.completions.create(\n",
    "        model=\"gpt-4o\",\n",
    "        temperature = 0.5,\n",
    "        messages = messages,\n",
    "    )\n",
    "    return response.choices[0].message.content\n",
    "\n",
    "messages = [\n",
    "    {\"role\":\"system\", \"content\":\"너는 사용자를 도와주는 친절한 조력자야.\"}\n",
    "]\n",
    "\n",
    "while True:\n",
    "    user_input = input(\"사용자: \")\n",
    "    if user_input == \"exit\":\n",
    "        break\n",
    "    messages.append({\"role\": \"user\", \"content\": user_input})\n",
    "    ai_msg = get_ai_response(messages)\n",
    "    messages.append({\"role\": \"assistant\", \"content\": ai_msg})\n",
    "    print(\"AI: \"+ ai_msg)"
   ]
  },
  {
   "cell_type": "markdown",
   "id": "291a5915",
   "metadata": {},
   "source": [
    "pip install pytz"
   ]
  },
  {
   "cell_type": "code",
   "execution_count": null,
   "id": "270ea575",
   "metadata": {},
   "outputs": [],
   "source": [
    "from datetime import datetime\n",
    "import pytz\n",
    "\n",
    "def get_current_time(timezone: str = 'Asia/Seoul') -> str:\n",
    "    tz = pytz.timezone(timezone)\n",
    "    current_time = datetime.now(tz).strftime(\"%Y-%m-%d %H:%M:%S\")\n",
    "    result = f'{current_time} {timezone}'\n",
    "    print(result)\n",
    "    return result"
   ]
  },
  {
   "cell_type": "code",
   "execution_count": 18,
   "id": "16be1bd5",
   "metadata": {},
   "outputs": [
    {
     "name": "stdout",
     "output_type": "stream",
     "text": [
      "2025-09-06 22:35:46 Asia/Seoul\n"
     ]
    }
   ],
   "source": [
    "current_time = get_current_time('Asia/Seoul')\n",
    "# current_time = get_current_time('America/New_York')\n",
    "# current_time = get_current_time('유럽/런던') # Error"
   ]
  },
  {
   "cell_type": "code",
   "execution_count": 20,
   "id": "8ee7cae8",
   "metadata": {},
   "outputs": [],
   "source": [
    "tools = [\n",
    "    {\n",
    "        \"type\":\"function\",\n",
    "        \"function\": {\n",
    "            \"name\": \"get_current_time\",\n",
    "            \"description\": \"해당 타임존의 현재 날짜와 시간을 타임존과 함께 반환합니다.\",\n",
    "            \"parameters\": {\n",
    "                \"type\": \"object\",\n",
    "                \"properties\": {\n",
    "                    'timezone': {\n",
    "                        'type': 'string',\n",
    "                        'description': '현재 날짜와 시간을 반환받고자 하는 타임존을 입력하세요. (예: Asian/Seoul)',\n",
    "                    },\n",
    "                },\n",
    "                \"required\": ['timezone'],\n",
    "            },\n",
    "        }\n",
    "    }      \n",
    "\n",
    "]"
   ]
  },
  {
   "cell_type": "code",
   "execution_count": null,
   "id": "501c4511",
   "metadata": {},
   "outputs": [
    {
     "name": "stdout",
     "output_type": "stream",
     "text": [
      "ChatCompletionMessage(content='안녕하세요, 이용환님! 어떻게 도와드릴까요?', refusal=None, role='assistant', annotations=[], audio=None, function_call=None, tool_calls=None)\n",
      "AI: 안녕하세요, 이용환님! 어떻게 도와드릴까요?\n",
      "ChatCompletionMessage(content='어느 타임존의 현재 시간을 알고 싶으신가요? 예를 들어, 서울 시간 또는 다른 지역의 시간을 말씀해 주세요.', refusal=None, role='assistant', annotations=[], audio=None, function_call=None, tool_calls=None)\n",
      "AI: 어느 타임존의 현재 시간을 알고 싶으신가요? 예를 들어, 서울 시간 또는 다른 지역의 시간을 말씀해 주세요.\n",
      "ChatCompletionMessage(content=None, refusal=None, role='assistant', annotations=[], audio=None, function_call=None, tool_calls=[ChatCompletionMessageFunctionToolCall(id='call_HJfw8YNPGAoeMbGg8h1oyytL', function=Function(arguments='{\"timezone\":\"Asia/Seoul\"}', name='get_current_time'), type='function')])\n",
      "2025-09-06 22:49:21 Asia/Seoul\n",
      "AI: 서울의 현재 시간은 2025년 9월 6일 오후 10시 49분입니다. 다른 도움이 필요하시면 말씀해 주세요!\n",
      "ChatCompletionMessage(content=None, refusal=None, role='assistant', annotations=[], audio=None, function_call=None, tool_calls=[ChatCompletionMessageFunctionToolCall(id='call_fV3KaHK1yAL0b4GRC6rJYVar', function=Function(arguments='{\"timezone\":\"Europe/London\"}', name='get_current_time'), type='function')])\n",
      "2025-09-06 14:49:37 Europe/London\n",
      "AI: 런던의 현재 시간은 2025년 9월 6일 오후 2시 49분입니다. 더 궁금한 점이 있으면 언제든지 물어봐 주세요!\n",
      "ChatCompletionMessage(content='죄송하지만, 현재 웹 검색 기능은 지원하지 않습니다. 그러나 질문하실 내용을 바탕으로 최대한 도움을 드리겠습니다. 다른 문의가 있으시면 말씀해 주세요.', refusal=None, role='assistant', annotations=[], audio=None, function_call=None, tool_calls=None)\n",
      "AI: 죄송하지만, 현재 웹 검색 기능은 지원하지 않습니다. 그러나 질문하실 내용을 바탕으로 최대한 도움을 드리겠습니다. 다른 문의가 있으시면 말씀해 주세요.\n"
     ]
    }
   ],
   "source": [
    "# 테스트 질문: 지금 몇 시야? 웹 검색 가능해?\n",
    "\n",
    "import json\n",
    "\n",
    "client = OpenAI()\n",
    "\n",
    "def get_ai_response(messages, tools=None):\n",
    "    response = client.chat.completions.create(\n",
    "        model=\"gpt-4o\",\n",
    "        messages = messages,\n",
    "        tools=tools,\n",
    "    )\n",
    "    return response\n",
    "\n",
    "messages = [\n",
    "    {\"role\":\"system\", \"content\":\"너는 사용자를 도와주는 친절한 조력자야.\"}\n",
    "]\n",
    "\n",
    "\n",
    "while True:\n",
    "    user_input = input(\"사용자: \")\n",
    "    if user_input == \"exit\":\n",
    "        break\n",
    "    messages.append({\"role\": \"user\", \"content\": user_input})\n",
    "    response = get_ai_response(messages, tools=tools)\n",
    "    ai_msg = response.choices[0].message\n",
    "    print(ai_msg)\n",
    "\n",
    "    tool_calls = ai_msg.tool_calls\n",
    "\n",
    "    # 하나의 지역 시간을 묻는 경우\n",
    "    if tool_calls:\n",
    "        tool_name = tool_calls[0].function.name\n",
    "        tool_call_id = tool_calls[0].id\n",
    "\n",
    "        arguments = json.loads(tool_calls[0].function.arguments) # str -> dict\n",
    "\n",
    "        if tool_name == \"get_current_time\":\n",
    "            messages.append({\n",
    "                \"role\": \"function\",\n",
    "                \"tool_call_id\": tool_call_id,\n",
    "                \"name\": tool_name,\n",
    "                \"content\": get_current_time(timezone=arguments['timezone']),\n",
    "            })\n",
    "        response = get_ai_response(messages, tools=tools)\n",
    "        ai_msg = response.choices[0].message\n",
    "\n",
    "    # 여러 지역 시간을 묻는 경우\n",
    "    # if tool_calls:\n",
    "    #     for tool_call in tool_calls:\n",
    "    #         tool_name = tool_call.function.name\n",
    "    #         tool_call_id = tool_call.id\n",
    "\n",
    "    #         arguments = json.loads(tool_call.function.arguments)\n",
    "\n",
    "    #         if tool_name == \"get_current_time\":\n",
    "    #             messages.append({\n",
    "    #                 \"role\": \"function\",\n",
    "    #                 \"tool_call_id\": tool_call_id,\n",
    "    #                 \"name\": tool_name,\n",
    "    #                 \"content\": get_current_time(timezone=arguments['timezone']),\n",
    "    #             })    \n",
    "    #     messages.append({\"role\":\"system\", \"content\":\"이제 주어진 결과를 참고해서 답변해.\"})\n",
    "    #     response = get_ai_response(messages, tools=tools)\n",
    "    #     ai_msg = response.choices[0].message\n",
    "\n",
    "    messages.append(ai_msg)\n",
    "    print(\"AI: \" + ai_msg.content)\n"
   ]
  },
  {
   "cell_type": "markdown",
   "id": "2ce9336f",
   "metadata": {},
   "source": [
    "pip install yfinance\n",
    "\n",
    "Installing collected packages: peewee, multitasking, websockets, urllib3, tzdata, soupsieve, pycparser, protobuf, numpy, frozendict, charset_normalizer, requests, pandas, cffi, beautifulsoup4, curl_cffi, yfinance  \n",
    "\n",
    "pip install tabulate"
   ]
  },
  {
   "cell_type": "code",
   "execution_count": 23,
   "id": "46b4f362",
   "metadata": {},
   "outputs": [],
   "source": [
    "import yfinance as yf\n",
    "\n",
    "def get_yf_stock_info(ticker: str):\n",
    "    stock = yf.Ticker(ticker)\n",
    "    info = stock.info\n",
    "    print(info)\n",
    "    return str(info)\n",
    "\n",
    "def get_yf_stock_history(ticker: str, period: str):\n",
    "    stock = yf.Ticker(ticker)\n",
    "    history = stock.history(period=period)\n",
    "    history_md = history.to_markdown()\n",
    "    print(history_md)\n",
    "    return history_md\n",
    "\n",
    "def get_yf_stock_recommendations(ticker: str):\n",
    "    stock = yf.Ticker(ticker)\n",
    "    recommendations = stock.recommendations\n",
    "    recommendations_md = recommendations.to_markdown()\n",
    "    print(recommendations_md)\n",
    "    return recommendations_md\n",
    "\n",
    "tools = [\n",
    "    {\n",
    "        \"type\":\"function\",\n",
    "        \"function\": {\n",
    "            \"name\": \"get_current_time\",\n",
    "            \"description\": \"해당 타임존의 현재 날짜와 시간을 타임존과 함께 반환합니다.\",\n",
    "            \"parameters\": {\n",
    "                \"type\": \"object\",\n",
    "                \"properties\": {\n",
    "                    'timezone': {\n",
    "                        'type': 'string',\n",
    "                        'description': '현재 날짜와 시간을 반환받고자 하는 타임존을 입력하세요. (예: Asian/Seoul)',\n",
    "                    },\n",
    "                },\n",
    "                \"required\": ['timezone'],\n",
    "            },\n",
    "        }\n",
    "    },\n",
    "\n",
    "    {\n",
    "        \"type\":\"function\",\n",
    "        \"function\": {\n",
    "            \"name\": \"get_yf_stock_info\",\n",
    "            \"description\": \"해당 종목의 Yahoo Finance 제공 정보를 반환합니다.\",\n",
    "            \"parameters\": {\n",
    "                \"type\": \"object\",\n",
    "                \"properties\": {\n",
    "                    'ticker': {\n",
    "                        'type': 'string',\n",
    "                        'description': 'Yahoo Finance 에서 정보를 조회할 종목의 티커를 입력하세요. (예: TSLA)',\n",
    "                    },\n",
    "                },\n",
    "                \"required\": ['ticker'],\n",
    "            },\n",
    "        }\n",
    "    },\n",
    "    {\n",
    "        \"type\":\"function\",\n",
    "        \"function\": {\n",
    "            \"name\": \"get_yf_stock_history\",\n",
    "            \"description\": \"해당 종목의 Yahoo Finance 제공 주가 정보를 반환합니다.\",\n",
    "            \"parameters\": {\n",
    "                \"type\": \"object\",\n",
    "                \"properties\": {\n",
    "                    'ticker': {\n",
    "                        'type': 'string',\n",
    "                        'description': 'Yahoo Finance 에서 주가 정보를 조회할 종목의 티커를 입력하세요. (예: TSLA)',\n",
    "                    },\n",
    "                    'period': {\n",
    "                        'type': 'string',\n",
    "                        'description': '주가 정보를 알고 싶은 기간을 입력하세요. (예: 1d, 5d, 1mo, 1y, 5y)',\n",
    "                    },\n",
    "                },\n",
    "                \"required\": ['ticker', 'period'],\n",
    "            },\n",
    "        }\n",
    "    },\n",
    "    {\n",
    "        \"type\":\"function\",\n",
    "        \"function\": {\n",
    "            \"name\": \"get_yf_stock_recommendations\",\n",
    "            \"description\": \"해당 종목에 대한 Yahoo Finance 제공 추천 정보를 반환합니다.\",\n",
    "            \"parameters\": {\n",
    "                \"type\": \"object\",\n",
    "                \"properties\": {\n",
    "                    'ticker': {\n",
    "                        'type': 'string',\n",
    "                        'description': 'Yahoo Finance 에서 추천 정보를 조회할 종목의 티커를 입력하세요. (예: TSLA)',\n",
    "                    },\n",
    "                },\n",
    "                \"required\": ['ticker'],\n",
    "            },\n",
    "        }\n",
    "    },      \n",
    "\n",
    "]"
   ]
  },
  {
   "cell_type": "code",
   "execution_count": null,
   "id": "5d077336",
   "metadata": {},
   "outputs": [
    {
     "name": "stdout",
     "output_type": "stream",
     "text": [
      "{'address1': '2788 San Tomas Expressway', 'city': 'Santa Clara', 'state': 'CA', 'zip': '95051', 'country': 'United States', 'phone': '408 486 2000', 'website': 'https://www.nvidia.com', 'industry': 'Semiconductors', 'industryKey': 'semiconductors', 'industryDisp': 'Semiconductors', 'sector': 'Technology', 'sectorKey': 'technology', 'sectorDisp': 'Technology', 'longBusinessSummary': \"NVIDIA Corporation, a computing infrastructure company, provides graphics and compute and networking solutions in the United States, Singapore, Taiwan, China, Hong Kong, and internationally. The Compute & Networking segment includes its Data Centre accelerated computing platforms and artificial intelligence solutions and software; networking; automotive platforms and autonomous and electric vehicle solutions; Jetson for robotics and other embedded platforms; and DGX Cloud computing services. The Graphics segment offers GeForce GPUs for gaming and PCs, the GeForce NOW game streaming service and related infrastructure, and solutions for gaming platforms; Quadro/NVIDIA RTX GPUs for enterprise workstation graphics; virtual GPU or vGPU software for cloud-based visual and virtual computing; automotive platforms for infotainment systems; and Omniverse software for building and operating industrial AI and digital twin applications. It also customized agentic solutions designed in collaboration with NVIDIA to accelerate enterprise AI adoption. The company's products are used in gaming, professional visualization, data center, and automotive markets. It sells its products to original equipment manufacturers, original device manufacturers, system integrators and distributors, independent software vendors, cloud service providers, consumer internet companies, add-in board manufacturers, distributors, automotive manufacturers and tier-1 automotive suppliers, and other ecosystem participants. NVIDIA Corporation was incorporated in 1993 and is headquartered in Santa Clara, California.\", 'fullTimeEmployees': 36000, 'companyOfficers': [{'maxAge': 1, 'name': 'Mr. Jen-Hsun  Huang', 'age': 61, 'title': 'Co-Founder, CEO, President & Director', 'yearBorn': 1963, 'fiscalYear': 2025, 'totalPay': 11054945, 'exercisedValue': 0, 'unexercisedValue': 0}, {'maxAge': 1, 'name': 'Ms. Colette M. Kress', 'age': 57, 'title': 'Executive VP & CFO', 'yearBorn': 1967, 'fiscalYear': 2025, 'totalPay': 1512641, 'exercisedValue': 0, 'unexercisedValue': 0}, {'maxAge': 1, 'name': 'Ms. Debora  Shoquist', 'age': 69, 'title': 'Executive Vice President of Operations', 'yearBorn': 1955, 'fiscalYear': 2025, 'totalPay': 1379071, 'exercisedValue': 0, 'unexercisedValue': 0}, {'maxAge': 1, 'name': 'Mr. Timothy S. Teter J.D.', 'age': 57, 'title': 'Executive VP, General Counsel & Secretary', 'yearBorn': 1967, 'fiscalYear': 2025, 'totalPay': 1362989, 'exercisedValue': 0, 'unexercisedValue': 0}, {'maxAge': 1, 'name': 'Mr. Ajay K. Puri', 'age': 69, 'title': 'Executive Vice President of Worldwide Field Operations', 'yearBorn': 1955, 'fiscalYear': 2025, 'totalPay': 2313851, 'exercisedValue': 0, 'unexercisedValue': 0}, {'maxAge': 1, 'name': 'Mr. Chris A. Malachowsky', 'title': 'Co-Founder', 'fiscalYear': 2025, 'totalPay': 320000, 'exercisedValue': 0, 'unexercisedValue': 0}, {'maxAge': 1, 'name': 'Mr. Donald F. Robertson Jr.', 'age': 55, 'title': 'VP & Chief Accounting Officer', 'yearBorn': 1969, 'fiscalYear': 2025, 'exercisedValue': 0, 'unexercisedValue': 0}, {'maxAge': 1, 'name': 'Prof. William J. Dally Ph.D.', 'age': 63, 'title': 'Chief Scientist & Senior VP of Research', 'yearBorn': 1961, 'fiscalYear': 2025, 'exercisedValue': 0, 'unexercisedValue': 0}, {'maxAge': 1, 'name': 'Mr. Toshiya  Hari', 'title': 'Vice President of Investor Relations & Strategic Finance', 'fiscalYear': 2025, 'exercisedValue': 0, 'unexercisedValue': 0}, {'maxAge': 1, 'name': 'Ms. Mylene  Mangalindan', 'title': 'VP of Corporate Communications', 'fiscalYear': 2025, 'exercisedValue': 0, 'unexercisedValue': 0}], 'auditRisk': 4, 'boardRisk': 10, 'compensationRisk': 4, 'shareHolderRightsRisk': 8, 'overallRisk': 8, 'governanceEpochDate': 1756684800, 'compensationAsOfEpochDate': 1767139200, 'irWebsite': 'http://phx.corporate-ir.net/phoenix.zhtml?c=116466&p=irol-IRHome', 'executiveTeam': [], 'maxAge': 86400, 'priceHint': 2, 'previousClose': 171.66, 'open': 168.03, 'dayLow': 164.07, 'dayHigh': 169.03, 'regularMarketPreviousClose': 171.66, 'regularMarketOpen': 168.03, 'regularMarketDayLow': 164.07, 'regularMarketDayHigh': 169.03, 'dividendRate': 0.04, 'dividendYield': 0.02, 'exDividendDate': 1757548800, 'payoutRatio': 0.0114, 'fiveYearAvgDividendYield': 0.06, 'beta': 2.102, 'trailingPE': 47.584045, 'forwardPE': 40.538837, 'volume': 221229803, 'regularMarketVolume': 221229803, 'averageVolume': 174395111, 'averageVolume10days': 202630630, 'averageDailyVolume10Day': 202630630, 'bid': 166.94, 'ask': 167.18, 'bidSize': 5, 'askSize': 5, 'marketCap': 4066436186112, 'fiftyTwoWeekLow': 86.62, 'fiftyTwoWeekHigh': 184.48, 'priceToSalesTrailing12Months': 24.61255, 'fiftyDayAverage': 172.319, 'twoHundredDayAverage': 139.2198, 'trailingAnnualDividendRate': 0.04, 'trailingAnnualDividendYield': 0.00023301874, 'currency': 'USD', 'tradeable': False, 'enterpriseValue': 4012393103360, 'profitMargins': 0.52414, 'floatShares': 23321682000, 'sharesOutstanding': 24347000832, 'sharesShort': 205241302, 'sharesShortPriorMonth': 201664565, 'sharesShortPreviousMonthDate': 1752537600, 'dateShortInterest': 1755216000, 'sharesPercentSharesOut': 0.0084, 'heldPercentInsiders': 0.04334, 'heldPercentInstitutions': 0.68974996, 'shortRatio': 1.3, 'shortPercentOfFloat': 0.0088, 'impliedSharesOutstanding': 25023399936, 'bookValue': 4.113, 'priceToBook': 40.60783, 'lastFiscalYearEnd': 1737849600, 'nextFiscalYearEnd': 1769385600, 'mostRecentQuarter': 1753574400, 'earningsQuarterlyGrowth': 0.592, 'netIncomeToCommon': 86597001216, 'trailingEps': 3.51, 'forwardEps': 4.12, 'lastSplitFactor': '10:1', 'lastSplitDate': 1717977600, 'enterpriseToRevenue': 24.285, 'enterpriseToEbitda': 40.826, '52WeekChange': 0.56870484, 'SandP52WeekChange': 0.18469036, 'lastDividendValue': 0.01, 'lastDividendDate': 1749600000, 'quoteType': 'EQUITY', 'currentPrice': 167.02, 'targetHighPrice': 270.0, 'targetLowPrice': 100.0, 'targetMeanPrice': 206.72156, 'targetMedianPrice': 210.0, 'recommendationMean': 1.41538, 'recommendationKey': 'strong_buy', 'numberOfAnalystOpinions': 58, 'totalCash': 56790999040, 'totalCashPerShare': 2.337, 'ebitda': 98280996864, 'totalDebt': 10597999616, 'quickRatio': 3.488, 'currentRatio': 4.214, 'totalRevenue': 165217992704, 'debtToEquity': 10.584, 'revenuePerShare': 6.755, 'returnOnAssets': 0.53094, 'returnOnEquity': 1.09417, 'grossProfits': 115399999488, 'freeCashflow': 52436750336, 'operatingCashflow': 77035003904, 'earningsGrowth': 0.612, 'revenueGrowth': 0.556, 'grossMargins': 0.69847, 'ebitdaMargins': 0.59486, 'operatingMargins': 0.60842997, 'financialCurrency': 'USD', 'symbol': 'NVDA', 'language': 'en-US', 'region': 'US', 'typeDisp': 'Equity', 'quoteSourceName': 'Delayed Quote', 'triggerable': True, 'customPriceAlertConfidence': 'HIGH', 'corporateActions': [{'header': 'Dividend', 'message': 'NVDA announced a cash dividend of 0.01 with an ex-date of Sep. 11, 2025', 'meta': {'eventType': 'DIVIDEND', 'dateEpochMs': 1757563200000, 'amount': '0.01'}}], 'postMarketTime': 1757116799, 'regularMarketTime': 1757102401, 'exchange': 'NMS', 'messageBoardId': 'finmb_32307', 'exchangeTimezoneName': 'America/New_York', 'exchangeTimezoneShortName': 'EDT', 'gmtOffSetMilliseconds': -14400000, 'market': 'us_market', 'esgPopulated': False, 'hasPrePostMarketData': True, 'firstTradeDateMilliseconds': 917015400000, 'postMarketChangePercent': -0.55682427, 'postMarketPrice': 166.09, 'postMarketChange': -0.93000793, 'regularMarketChange': -4.64, 'regularMarketDayRange': '164.07 - 169.03', 'fullExchangeName': 'NasdaqGS', 'averageDailyVolume3Month': 174395111, 'fiftyTwoWeekLowChange': 80.4, 'fiftyTwoWeekLowChangePercent': 0.9281921, 'fiftyTwoWeekRange': '86.62 - 184.48', 'fiftyTwoWeekHighChange': -17.459991, 'fiftyTwoWeekHighChangePercent': -0.09464436, 'fiftyTwoWeekChangePercent': 56.870483, 'dividendDate': 1759363200, 'earningsTimestamp': 1763582400, 'earningsTimestampStart': 1763582400, 'earningsTimestampEnd': 1763582400, 'earningsCallTimestampStart': 1756328400, 'earningsCallTimestampEnd': 1756328400, 'isEarningsDateEstimate': False, 'epsTrailingTwelveMonths': 3.51, 'epsForward': 4.12, 'epsCurrentYear': 4.47994, 'priceEpsCurrentYear': 37.28175, 'fiftyDayAverageChange': -5.298996, 'fiftyDayAverageChangePercent': -0.030751083, 'twoHundredDayAverageChange': 27.800201, 'twoHundredDayAverageChangePercent': 0.19968568, 'sourceInterval': 15, 'exchangeDataDelayedBy': 0, 'prevName': 'Usual Stablecoin', 'nameChangeDate': '2025-09-05', 'averageAnalystRating': '1.4 - Strong Buy', 'cryptoTradeable': False, 'marketState': 'CLOSED', 'shortName': 'NVIDIA Corporation', 'longName': 'NVIDIA Corporation', 'regularMarketChangePercent': -2.70302, 'regularMarketPrice': 167.02, 'displayName': 'NVIDIA', 'trailingPegRatio': 1.2453}\n"
     ]
    }
   ],
   "source": [
    "get_yf_stock_info('NVDA')"
   ]
  },
  {
   "cell_type": "code",
   "execution_count": 27,
   "id": "28bc7016",
   "metadata": {},
   "outputs": [
    {
     "name": "stdout",
     "output_type": "stream",
     "text": [
      "| Date                      |   Open |   High |    Low |   Close |      Volume |   Dividends |   Stock Splits |\n",
      "|:--------------------------|-------:|-------:|-------:|--------:|------------:|------------:|---------------:|\n",
      "| 2025-08-29 00:00:00-04:00 | 347.23 | 348.75 | 331.7  |  333.87 | 8.11457e+07 |           0 |              0 |\n",
      "| 2025-09-02 00:00:00-04:00 | 328.23 | 333.33 | 325.6  |  329.36 | 5.8392e+07  |           0 |              0 |\n",
      "| 2025-09-03 00:00:00-04:00 | 335.2  | 343.33 | 328.51 |  334.09 | 8.87333e+07 |           0 |              0 |\n",
      "| 2025-09-04 00:00:00-04:00 | 336.15 | 338.89 | 331.48 |  338.53 | 6.0711e+07  |           0 |              0 |\n",
      "| 2025-09-05 00:00:00-04:00 | 348    | 355.87 | 344.68 |  350.84 | 1.08772e+08 |           0 |              0 |\n"
     ]
    },
    {
     "data": {
      "text/plain": [
       "'| Date                      |   Open |   High |    Low |   Close |      Volume |   Dividends |   Stock Splits |\\n|:--------------------------|-------:|-------:|-------:|--------:|------------:|------------:|---------------:|\\n| 2025-08-29 00:00:00-04:00 | 347.23 | 348.75 | 331.7  |  333.87 | 8.11457e+07 |           0 |              0 |\\n| 2025-09-02 00:00:00-04:00 | 328.23 | 333.33 | 325.6  |  329.36 | 5.8392e+07  |           0 |              0 |\\n| 2025-09-03 00:00:00-04:00 | 335.2  | 343.33 | 328.51 |  334.09 | 8.87333e+07 |           0 |              0 |\\n| 2025-09-04 00:00:00-04:00 | 336.15 | 338.89 | 331.48 |  338.53 | 6.0711e+07  |           0 |              0 |\\n| 2025-09-05 00:00:00-04:00 | 348    | 355.87 | 344.68 |  350.84 | 1.08772e+08 |           0 |              0 |'"
      ]
     },
     "execution_count": 27,
     "metadata": {},
     "output_type": "execute_result"
    }
   ],
   "source": [
    "get_yf_stock_history('TSLA', '5d')"
   ]
  },
  {
   "cell_type": "code",
   "execution_count": 28,
   "id": "d3a99029",
   "metadata": {},
   "outputs": [
    {
     "name": "stdout",
     "output_type": "stream",
     "text": [
      "|    | period   |   strongBuy |   buy |   hold |   sell |   strongSell |\n",
      "|---:|:---------|------------:|------:|-------:|-------:|-------------:|\n",
      "|  0 | 0m       |           1 |     3 |     17 |      2 |            2 |\n",
      "|  1 | -1m      |           1 |     3 |     17 |      2 |            2 |\n",
      "|  2 | -2m      |           1 |     3 |     16 |      3 |            2 |\n",
      "|  3 | -3m      |           1 |     3 |     15 |      4 |            2 |\n"
     ]
    },
    {
     "data": {
      "text/plain": [
       "'|    | period   |   strongBuy |   buy |   hold |   sell |   strongSell |\\n|---:|:---------|------------:|------:|-------:|-------:|-------------:|\\n|  0 | 0m       |           1 |     3 |     17 |      2 |            2 |\\n|  1 | -1m      |           1 |     3 |     17 |      2 |            2 |\\n|  2 | -2m      |           1 |     3 |     16 |      3 |            2 |\\n|  3 | -3m      |           1 |     3 |     15 |      4 |            2 |'"
      ]
     },
     "execution_count": 28,
     "metadata": {},
     "output_type": "execute_result"
    }
   ],
   "source": [
    "get_yf_stock_recommendations('PLTR')"
   ]
  },
  {
   "cell_type": "code",
   "execution_count": 32,
   "id": "22f79828",
   "metadata": {},
   "outputs": [
    {
     "name": "stdout",
     "output_type": "stream",
     "text": [
      "ChatCompletionMessage(content=None, refusal=None, role='assistant', annotations=[], audio=None, function_call=None, tool_calls=[ChatCompletionMessageFunctionToolCall(id='call_G59zYvQexFPjxkSM3Z3C6VtT', function=Function(arguments='{\"ticker\":\"NVDA\"}', name='get_yf_stock_info'), type='function')])\n",
      "{'address1': '2788 San Tomas Expressway', 'city': 'Santa Clara', 'state': 'CA', 'zip': '95051', 'country': 'United States', 'phone': '408 486 2000', 'website': 'https://www.nvidia.com', 'industry': 'Semiconductors', 'industryKey': 'semiconductors', 'industryDisp': 'Semiconductors', 'sector': 'Technology', 'sectorKey': 'technology', 'sectorDisp': 'Technology', 'longBusinessSummary': \"NVIDIA Corporation, a computing infrastructure company, provides graphics and compute and networking solutions in the United States, Singapore, Taiwan, China, Hong Kong, and internationally. The Compute & Networking segment includes its Data Centre accelerated computing platforms and artificial intelligence solutions and software; networking; automotive platforms and autonomous and electric vehicle solutions; Jetson for robotics and other embedded platforms; and DGX Cloud computing services. The Graphics segment offers GeForce GPUs for gaming and PCs, the GeForce NOW game streaming service and related infrastructure, and solutions for gaming platforms; Quadro/NVIDIA RTX GPUs for enterprise workstation graphics; virtual GPU or vGPU software for cloud-based visual and virtual computing; automotive platforms for infotainment systems; and Omniverse software for building and operating industrial AI and digital twin applications. It also customized agentic solutions designed in collaboration with NVIDIA to accelerate enterprise AI adoption. The company's products are used in gaming, professional visualization, data center, and automotive markets. It sells its products to original equipment manufacturers, original device manufacturers, system integrators and distributors, independent software vendors, cloud service providers, consumer internet companies, add-in board manufacturers, distributors, automotive manufacturers and tier-1 automotive suppliers, and other ecosystem participants. NVIDIA Corporation was incorporated in 1993 and is headquartered in Santa Clara, California.\", 'fullTimeEmployees': 36000, 'companyOfficers': [{'maxAge': 1, 'name': 'Mr. Jen-Hsun  Huang', 'age': 61, 'title': 'Co-Founder, CEO, President & Director', 'yearBorn': 1963, 'fiscalYear': 2025, 'totalPay': 11054945, 'exercisedValue': 0, 'unexercisedValue': 0}, {'maxAge': 1, 'name': 'Ms. Colette M. Kress', 'age': 57, 'title': 'Executive VP & CFO', 'yearBorn': 1967, 'fiscalYear': 2025, 'totalPay': 1512641, 'exercisedValue': 0, 'unexercisedValue': 0}, {'maxAge': 1, 'name': 'Ms. Debora  Shoquist', 'age': 69, 'title': 'Executive Vice President of Operations', 'yearBorn': 1955, 'fiscalYear': 2025, 'totalPay': 1379071, 'exercisedValue': 0, 'unexercisedValue': 0}, {'maxAge': 1, 'name': 'Mr. Timothy S. Teter J.D.', 'age': 57, 'title': 'Executive VP, General Counsel & Secretary', 'yearBorn': 1967, 'fiscalYear': 2025, 'totalPay': 1362989, 'exercisedValue': 0, 'unexercisedValue': 0}, {'maxAge': 1, 'name': 'Mr. Ajay K. Puri', 'age': 69, 'title': 'Executive Vice President of Worldwide Field Operations', 'yearBorn': 1955, 'fiscalYear': 2025, 'totalPay': 2313851, 'exercisedValue': 0, 'unexercisedValue': 0}, {'maxAge': 1, 'name': 'Mr. Chris A. Malachowsky', 'title': 'Co-Founder', 'fiscalYear': 2025, 'totalPay': 320000, 'exercisedValue': 0, 'unexercisedValue': 0}, {'maxAge': 1, 'name': 'Mr. Donald F. Robertson Jr.', 'age': 55, 'title': 'VP & Chief Accounting Officer', 'yearBorn': 1969, 'fiscalYear': 2025, 'exercisedValue': 0, 'unexercisedValue': 0}, {'maxAge': 1, 'name': 'Prof. William J. Dally Ph.D.', 'age': 63, 'title': 'Chief Scientist & Senior VP of Research', 'yearBorn': 1961, 'fiscalYear': 2025, 'exercisedValue': 0, 'unexercisedValue': 0}, {'maxAge': 1, 'name': 'Mr. Toshiya  Hari', 'title': 'Vice President of Investor Relations & Strategic Finance', 'fiscalYear': 2025, 'exercisedValue': 0, 'unexercisedValue': 0}, {'maxAge': 1, 'name': 'Ms. Mylene  Mangalindan', 'title': 'VP of Corporate Communications', 'fiscalYear': 2025, 'exercisedValue': 0, 'unexercisedValue': 0}], 'auditRisk': 4, 'boardRisk': 10, 'compensationRisk': 4, 'shareHolderRightsRisk': 8, 'overallRisk': 8, 'governanceEpochDate': 1756684800, 'compensationAsOfEpochDate': 1767139200, 'irWebsite': 'http://phx.corporate-ir.net/phoenix.zhtml?c=116466&p=irol-IRHome', 'executiveTeam': [], 'maxAge': 86400, 'priceHint': 2, 'previousClose': 171.66, 'open': 168.03, 'dayLow': 164.07, 'dayHigh': 169.03, 'regularMarketPreviousClose': 171.66, 'regularMarketOpen': 168.03, 'regularMarketDayLow': 164.07, 'regularMarketDayHigh': 169.03, 'dividendRate': 0.04, 'dividendYield': 0.02, 'exDividendDate': 1757548800, 'payoutRatio': 0.0114, 'fiveYearAvgDividendYield': 0.06, 'beta': 2.102, 'trailingPE': 47.584045, 'forwardPE': 40.538837, 'volume': 221229803, 'regularMarketVolume': 221229803, 'averageVolume': 174395111, 'averageVolume10days': 202630630, 'averageDailyVolume10Day': 202630630, 'bid': 166.94, 'ask': 167.18, 'bidSize': 5, 'askSize': 5, 'marketCap': 4066436186112, 'fiftyTwoWeekLow': 86.62, 'fiftyTwoWeekHigh': 184.48, 'priceToSalesTrailing12Months': 24.61255, 'fiftyDayAverage': 172.319, 'twoHundredDayAverage': 139.2198, 'trailingAnnualDividendRate': 0.04, 'trailingAnnualDividendYield': 0.00023301874, 'currency': 'USD', 'tradeable': False, 'enterpriseValue': 4012393103360, 'profitMargins': 0.52414, 'floatShares': 23321682000, 'sharesOutstanding': 24347000832, 'sharesShort': 205241302, 'sharesShortPriorMonth': 201664565, 'sharesShortPreviousMonthDate': 1752537600, 'dateShortInterest': 1755216000, 'sharesPercentSharesOut': 0.0084, 'heldPercentInsiders': 0.04334, 'heldPercentInstitutions': 0.68974996, 'shortRatio': 1.3, 'shortPercentOfFloat': 0.0088, 'impliedSharesOutstanding': 25023399936, 'bookValue': 4.113, 'priceToBook': 40.60783, 'lastFiscalYearEnd': 1737849600, 'nextFiscalYearEnd': 1769385600, 'mostRecentQuarter': 1753574400, 'earningsQuarterlyGrowth': 0.592, 'netIncomeToCommon': 86597001216, 'trailingEps': 3.51, 'forwardEps': 4.12, 'lastSplitFactor': '10:1', 'lastSplitDate': 1717977600, 'enterpriseToRevenue': 24.285, 'enterpriseToEbitda': 40.826, '52WeekChange': 0.56870484, 'SandP52WeekChange': 0.18469036, 'lastDividendValue': 0.01, 'lastDividendDate': 1749600000, 'quoteType': 'EQUITY', 'currentPrice': 167.02, 'targetHighPrice': 270.0, 'targetLowPrice': 100.0, 'targetMeanPrice': 206.72156, 'targetMedianPrice': 210.0, 'recommendationMean': 1.41538, 'recommendationKey': 'strong_buy', 'numberOfAnalystOpinions': 58, 'totalCash': 56790999040, 'totalCashPerShare': 2.337, 'ebitda': 98280996864, 'totalDebt': 10597999616, 'quickRatio': 3.488, 'currentRatio': 4.214, 'totalRevenue': 165217992704, 'debtToEquity': 10.584, 'revenuePerShare': 6.755, 'returnOnAssets': 0.53094, 'returnOnEquity': 1.09417, 'grossProfits': 115399999488, 'freeCashflow': 52436750336, 'operatingCashflow': 77035003904, 'earningsGrowth': 0.612, 'revenueGrowth': 0.556, 'grossMargins': 0.69847, 'ebitdaMargins': 0.59486, 'operatingMargins': 0.60842997, 'financialCurrency': 'USD', 'symbol': 'NVDA', 'language': 'en-US', 'region': 'US', 'typeDisp': 'Equity', 'quoteSourceName': 'Nasdaq Real Time Price', 'triggerable': True, 'customPriceAlertConfidence': 'HIGH', 'shortName': 'NVIDIA Corporation', 'longName': 'NVIDIA Corporation', 'regularMarketChangePercent': -2.70302, 'regularMarketPrice': 167.02, 'marketState': 'CLOSED', 'exchange': 'NMS', 'messageBoardId': 'finmb_32307', 'exchangeTimezoneName': 'America/New_York', 'exchangeTimezoneShortName': 'EDT', 'gmtOffSetMilliseconds': -14400000, 'market': 'us_market', 'esgPopulated': False, 'corporateActions': [{'header': 'Dividend', 'message': 'NVDA announced a cash dividend of 0.01 with an ex-date of Sep. 11, 2025', 'meta': {'eventType': 'DIVIDEND', 'dateEpochMs': 1757563200000, 'amount': '0.01'}}], 'postMarketTime': 1757116799, 'regularMarketTime': 1757102401, 'exchangeDataDelayedBy': 0, 'prevName': 'Usual Stablecoin', 'nameChangeDate': '2025-09-05', 'averageAnalystRating': '1.4 - Strong Buy', 'cryptoTradeable': False, 'hasPrePostMarketData': True, 'firstTradeDateMilliseconds': 917015400000, 'postMarketChangePercent': -0.556824, 'postMarketPrice': 166.09, 'postMarketChange': -0.930008, 'regularMarketChange': -4.64, 'regularMarketDayRange': '164.07 - 169.03', 'fullExchangeName': 'NasdaqGS', 'averageDailyVolume3Month': 174395111, 'fiftyTwoWeekLowChange': 80.4, 'fiftyTwoWeekLowChangePercent': 0.9281921, 'fiftyTwoWeekRange': '86.62 - 184.48', 'fiftyTwoWeekHighChange': -17.459991, 'fiftyTwoWeekHighChangePercent': -0.09464436, 'fiftyTwoWeekChangePercent': 56.870483, 'dividendDate': 1759363200, 'earningsTimestamp': 1763582400, 'earningsTimestampStart': 1763582400, 'earningsTimestampEnd': 1763582400, 'earningsCallTimestampStart': 1756328400, 'earningsCallTimestampEnd': 1756328400, 'isEarningsDateEstimate': False, 'epsTrailingTwelveMonths': 3.51, 'epsForward': 4.12, 'epsCurrentYear': 4.47994, 'priceEpsCurrentYear': 37.28175, 'fiftyDayAverageChange': -5.298996, 'fiftyDayAverageChangePercent': -0.030751083, 'twoHundredDayAverageChange': 27.800201, 'twoHundredDayAverageChangePercent': 0.19968568, 'sourceInterval': 15, 'displayName': 'NVIDIA', 'trailingPegRatio': 1.2453}\n",
      "\n",
      "===== AI =====\n",
      "엔비디아(NVIDIA Corporation)는 캘리포니아 산타클라라에 본사를 두고 있는 반도체 기업입니다. 이 회사는 컴퓨팅 인프라를 제공하며, 주요 사업 부문은 다음과 같습니다.\n",
      "\n",
      "1. **컴퓨트 & 네트워킹**: 데이터 센터 가속 컴퓨팅 플랫폼, AI 솔루션 및 소프트웨어, 네트워킹, 자동차 플랫폼, DGX 클라우드 컴퓨팅 서비스를 포함합니다.\n",
      "2. **그래픽스**: 주로 게이밍 및 PC용 GeForce GPU, 엔터프라이즈용 Quadro/NVIDIA RTX GPU, 클라우드 기반 컴퓨팅을 위한 가상 GPU(vGPU) 소프트웨어 등을 제공합니다.\n",
      "3. **기타 서비스**: Omniverse 소프트웨어와 같은 디지털 트윈 애플리케이션 및 산업 AI 등을 포함합니다.\n",
      "\n",
      "엔비디아는 주식 시장에서 \"NVDA\"라는 심볼로 나스닥에서 거래되며, 시가총액은 약 4조 666억 달러입니다. 직원 수는 약 36,000명입니다. 주 사업 영역은 게임, 전문 시각화, 데이터 센터 및 자동차 시장에 걸쳐 있습니다.\n",
      "\n",
      "주요 경영진은 다음과 같습니다:\n",
      "- **Jen-Hsun Huang**: 공동 설립자, CEO, 회장\n",
      "- **Colette M. Kress**: 부사장 및 최고 재무 책임자(CFO).\n",
      "\n",
      "엔비디아는 지속 가능한 혁신과 AI 및 고성능 컴퓨팅의 발전에 큰 영향을 미치고 있습니다. 이 회사의 제품은 원자재 생산부터 엔터테인먼트까지 다양한 산업에서 활용되고 있습니다.\n",
      "\n",
      "공식 웹사이트는 [nvidia.com](https://www.nvidia.com)입니다.\n",
      "============\n",
      "ChatCompletionMessage(content=None, refusal=None, role='assistant', annotations=[], audio=None, function_call=None, tool_calls=[ChatCompletionMessageFunctionToolCall(id='call_Gp6trXzLQjG9fT9KnkxyCSNe', function=Function(arguments='{\"ticker\":\"NVDA\",\"period\":\"1mo\"}', name='get_yf_stock_history'), type='function')])\n",
      "| Date                      |   Open |   High |    Low |   Close |      Volume |   Dividends |   Stock Splits |\n",
      "|:--------------------------|-------:|-------:|-------:|--------:|------------:|------------:|---------------:|\n",
      "| 2025-08-06 00:00:00-04:00 | 176.33 | 179.9  | 176.25 |  179.42 | 1.37192e+08 |           0 |              0 |\n",
      "| 2025-08-07 00:00:00-04:00 | 181.57 | 183.88 | 178.8  |  180.77 | 1.51878e+08 |           0 |              0 |\n",
      "| 2025-08-08 00:00:00-04:00 | 181.55 | 183.3  | 180.4  |  182.7  | 1.23397e+08 |           0 |              0 |\n",
      "| 2025-08-11 00:00:00-04:00 | 182.05 | 183.84 | 180.25 |  182.06 | 1.38323e+08 |           0 |              0 |\n",
      "| 2025-08-12 00:00:00-04:00 | 182.96 | 184.48 | 179.46 |  183.16 | 1.45486e+08 |           0 |              0 |\n",
      "| 2025-08-13 00:00:00-04:00 | 182.62 | 183.97 | 179.35 |  181.59 | 1.79872e+08 |           0 |              0 |\n",
      "| 2025-08-14 00:00:00-04:00 | 179.75 | 183.02 | 179.46 |  182.02 | 1.29554e+08 |           0 |              0 |\n",
      "| 2025-08-15 00:00:00-04:00 | 181.88 | 181.9  | 178.04 |  180.45 | 1.56602e+08 |           0 |              0 |\n",
      "| 2025-08-18 00:00:00-04:00 | 180.6  | 182.94 | 180.59 |  182.01 | 1.32008e+08 |           0 |              0 |\n",
      "| 2025-08-19 00:00:00-04:00 | 182.43 | 182.5  | 175.49 |  175.64 | 1.85229e+08 |           0 |              0 |\n",
      "| 2025-08-20 00:00:00-04:00 | 175.17 | 176    | 168.8  |  175.4  | 2.15143e+08 |           0 |              0 |\n",
      "| 2025-08-21 00:00:00-04:00 | 174.85 | 176.9  | 173.81 |  174.98 | 1.40041e+08 |           0 |              0 |\n",
      "| 2025-08-22 00:00:00-04:00 | 172.61 | 178.59 | 171.2  |  177.99 | 1.72789e+08 |           0 |              0 |\n",
      "| 2025-08-25 00:00:00-04:00 | 178.35 | 181.91 | 176.57 |  179.81 | 1.63013e+08 |           0 |              0 |\n",
      "| 2025-08-26 00:00:00-04:00 | 180.06 | 182.39 | 178.81 |  181.77 | 1.68688e+08 |           0 |              0 |\n",
      "| 2025-08-27 00:00:00-04:00 | 181.98 | 182.49 | 179.1  |  181.6  | 2.35519e+08 |           0 |              0 |\n",
      "| 2025-08-28 00:00:00-04:00 | 180.82 | 184.47 | 176.41 |  180.17 | 2.81788e+08 |           0 |              0 |\n",
      "| 2025-08-29 00:00:00-04:00 | 178.11 | 178.15 | 173.15 |  174.18 | 2.43258e+08 |           0 |              0 |\n",
      "| 2025-09-02 00:00:00-04:00 | 170    | 172.38 | 167.22 |  170.78 | 2.31165e+08 |           0 |              0 |\n",
      "| 2025-09-03 00:00:00-04:00 | 171.06 | 172.41 | 168.88 |  170.62 | 1.64425e+08 |           0 |              0 |\n",
      "| 2025-09-04 00:00:00-04:00 | 170.57 | 171.86 | 169.41 |  171.66 | 1.4167e+08  |           0 |              0 |\n",
      "| 2025-09-05 00:00:00-04:00 | 168.03 | 169.03 | 164.07 |  167.02 | 2.23991e+08 |           0 |              0 |\n",
      "\n",
      "===== AI =====\n",
      "엔비디아의 최근 한 달간 주가는 다음과 같은 추이를 보였습니다.\n",
      "\n",
      "- **2025-08-06**: $179.42로 마감\n",
      "- **2025-08-12**: $183.16로 한때 최고치 기록\n",
      "- **2025-08-19**: $175.64로 다소 하락\n",
      "- **2025-08-28**: $180.17로 반등\n",
      "- **2025-09-05**: $167.02로 마감 (가장 최근 종가)\n",
      "\n",
      "전반적으로 엔비디아의 주가는 한 달 동안 변동성이 있었으며, 최고가는 $184.48 (8월 12일)였고, 9월 초에는 하락하는 경향을 보였습니다. 최근 종가인 $167.02는 최고 기록 대비 낮은 수준입니다.\n",
      "============\n"
     ]
    }
   ],
   "source": [
    "# 질문 테스트: 엔비디아 주가가 최근 하락한 이유가 뭐야?\n",
    "\n",
    "client = OpenAI()\n",
    "\n",
    "def get_ai_response(messages, tools=None):\n",
    "    response = client.chat.completions.create(\n",
    "        model=\"gpt-4o\",\n",
    "        messages = messages,\n",
    "        tools=tools,\n",
    "    )\n",
    "    return response\n",
    "\n",
    "messages = [\n",
    "    {\"role\":\"system\", \"content\":\"너는 사용자를 도와주는 친절한 조력자야.\"}\n",
    "]\n",
    "\n",
    "while True:\n",
    "    user_input = input(\"사용자: \")\n",
    "    if user_input == \"exit\":\n",
    "        break\n",
    "    messages.append({\"role\": \"user\", \"content\": user_input})\n",
    "    response = get_ai_response(messages, tools=tools)\n",
    "    ai_msg = response.choices[0].message\n",
    "    print(ai_msg)\n",
    "\n",
    "    tool_calls = ai_msg.tool_calls\n",
    "\n",
    "    # 하나의 지역 시간을 묻는 경우\n",
    "    if tool_calls:\n",
    "        tool_name = tool_calls[0].function.name\n",
    "        tool_call_id = tool_calls[0].id\n",
    "\n",
    "        arguments = json.loads(tool_calls[0].function.arguments) # str -> dict\n",
    "\n",
    "        if tool_name == \"get_current_time\":\n",
    "            messages.append({\n",
    "                \"role\": \"function\",\n",
    "                \"tool_call_id\": tool_call_id,\n",
    "                \"name\": tool_name,\n",
    "                \"content\": get_current_time(timezone=arguments['timezone']),\n",
    "            })\n",
    "        response = get_ai_response(messages, tools=tools)\n",
    "        ai_msg = response.choices[0].message\n",
    "\n",
    "    tool_calls = ai_msg.tool_calls \n",
    "    if tool_calls: \n",
    "        for tool_call in tool_calls:\n",
    "            tool_name = tool_call.function.name \n",
    "            tool_call_id = tool_call.id   \n",
    "            arguments = json.loads(tool_call.function.arguments) \n",
    "            \n",
    "            if tool_name == \"get_current_time\":\n",
    "                func_result = get_current_time(timezone=arguments['timezone']), \n",
    "\n",
    "            elif tool_name == \"get_yf_stock_info\":\n",
    "                func_result = get_yf_stock_info(ticker=arguments['ticker'])\n",
    "\n",
    "            elif tool_name == \"get_yf_stock_history\":\n",
    "                func_result = get_yf_stock_history(ticker=arguments['ticker'], period=arguments['period'])   \n",
    "\n",
    "            elif tool_name == \"get_yf_stock_recommendations\":\n",
    "                func_result = get_yf_stock_recommendations(ticker=arguments['ticker'])     \n",
    "\n",
    "            messages.append({\n",
    "                \"role\": \"function\",\n",
    "                \"tool_call_id\": tool_call_id,\n",
    "                \"name\": tool_name,\n",
    "                \"content\": func_result,\n",
    "            })                                        \n",
    "        \n",
    "        messages.append({\"role\":\"system\", \"content\":\"이제 주어진 결과를 참고해서 답변해.\"})\n",
    "        response = get_ai_response(messages, tools=tools)\n",
    "        ai_msg = response.choices[0].message\n",
    "\n",
    "    messages.append(ai_msg)\n",
    "    print('\\n===== AI =====')\n",
    "    print(ai_msg.content)\n",
    "    print('============\\n')"
   ]
  },
  {
   "cell_type": "code",
   "execution_count": null,
   "id": "3c1e892f",
   "metadata": {},
   "outputs": [],
   "source": []
  },
  {
   "cell_type": "code",
   "execution_count": null,
   "id": "13a8dfe6",
   "metadata": {},
   "outputs": [],
   "source": []
  }
 ],
 "metadata": {
  "kernelspec": {
   "display_name": ".venv",
   "language": "python",
   "name": "python3"
  },
  "language_info": {
   "codemirror_mode": {
    "name": "ipython",
    "version": 3
   },
   "file_extension": ".py",
   "mimetype": "text/x-python",
   "name": "python",
   "nbconvert_exporter": "python",
   "pygments_lexer": "ipython3",
   "version": "3.13.5"
  }
 },
 "nbformat": 4,
 "nbformat_minor": 5
}
